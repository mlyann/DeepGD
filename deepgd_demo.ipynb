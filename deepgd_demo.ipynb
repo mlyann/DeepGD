{
 "cells": [
  {
   "cell_type": "code",
   "execution_count": 3,
   "id": "61bcb190-671c-4e75-9469-1bd4c801c29d",
   "metadata": {
    "ExecuteTime": {
     "end_time": "2024-08-06T06:42:58.636822Z",
     "start_time": "2024-08-06T06:42:58.575046Z"
    }
   },
   "outputs": [
    {
     "name": "stdout",
     "output_type": "stream",
     "text": [
      "The autoreload extension is already loaded. To reload it, use:\n",
      "  %reload_ext autoreload\n"
     ]
    }
   ],
   "source": [
    "%load_ext autoreload\n",
    "%autoreload 2"
   ]
  },
  {
   "cell_type": "code",
   "execution_count": 4,
   "id": "4b5d7c53-d37c-4c03-9713-cd8ffaa6d0dd",
   "metadata": {
    "ExecuteTime": {
     "end_time": "2024-08-06T06:44:54.875719Z",
     "start_time": "2024-08-06T06:44:07.578049Z"
    }
   },
   "outputs": [],
   "source": [
    "import pandas as pd\n",
    "import numpy as np\n",
    "import torch\n",
    "import torch_geometric as pyg\n",
    "from tqdm.auto import *\n",
    "\n",
    "from deepgd.model import Generator\n",
    "from deepgd.data import GraphDrawingData\n",
    "from deepgd.datasets import  RomeDataset\n",
    "\n",
    "from deepgd.metrics import Stress"
   ]
  },
  {
   "cell_type": "code",
   "execution_count": 5,
   "id": "1ecb6a05-deff-4ebc-a4be-7e3bd2ffada5",
   "metadata": {
    "ExecuteTime": {
     "end_time": "2024-08-06T06:44:56.742Z",
     "start_time": "2024-08-06T06:44:56.656606Z"
    }
   },
   "outputs": [
    {
     "name": "stderr",
     "output_type": "stream",
     "text": [
      "/work/mlyang721/anaconda3/envs/deepgd/lib/python3.10/site-packages/torch/cuda/__init__.py:128: UserWarning: CUDA initialization: The NVIDIA driver on your system is too old (found version 11040). Please update your GPU driver by downloading and installing a new version from the URL: http://www.nvidia.com/Download/index.aspx Alternatively, go to: https://pytorch.org to install a PyTorch version that has been compiled with your version of the CUDA driver. (Triggered internally at ../c10/cuda/CUDAFunctions.cpp:108.)\n",
      "  return torch._C._cuda_getDeviceCount() > 0\n"
     ]
    }
   ],
   "source": [
    "device = \"cpu\"\n",
    "for backend, device_name in {\n",
    "    torch.backends.mps: \"mps\",\n",
    "    torch.cuda: \"cuda\",\n",
    "}.items():\n",
    "    if backend.is_available():\n",
    "        device = device_name"
   ]
  },
  {
   "cell_type": "code",
   "execution_count": 6,
   "id": "31fa6e3c690c3c42",
   "metadata": {
    "ExecuteTime": {
     "end_time": "2024-08-06T06:49:02.368899Z",
     "start_time": "2024-08-06T06:49:02.333849Z"
    }
   },
   "outputs": [],
   "source": [
    "batch_size = 32\n",
    "lr = 0.001\n",
    "decay = 0.998"
   ]
  },
  {
   "cell_type": "markdown",
   "id": "a0df0c2d",
   "metadata": {},
   "source": [
    "===================================================================================="
   ]
  },
  {
   "cell_type": "markdown",
   "id": "6db1a4dc",
   "metadata": {},
   "source": [
    "##### ErdosRenyi Dataset"
   ]
  },
  {
   "cell_type": "code",
   "execution_count": 9,
   "id": "59c41388",
   "metadata": {},
   "outputs": [
    {
     "name": "stderr",
     "output_type": "stream",
     "text": [
      "Processing...\n",
      "Done!\n",
      "Transform graphs:   0%|          | 0/1 [00:00<?, ?it/s]\n"
     ]
    },
    {
     "ename": "AttributeError",
     "evalue": "'NoneType' object has no attribute '_transforms'",
     "output_type": "error",
     "traceback": [
      "\u001b[0;31m---------------------------------------------------------------------------\u001b[0m",
      "\u001b[0;31mAttributeError\u001b[0m                            Traceback (most recent call last)",
      "Cell \u001b[0;32mIn[9], line 3\u001b[0m\n\u001b[1;32m      1\u001b[0m \u001b[38;5;28;01mfrom\u001b[39;00m \u001b[38;5;21;01mdeepgd\u001b[39;00m\u001b[38;5;21;01m.\u001b[39;00m\u001b[38;5;21;01mdatasets\u001b[39;00m \u001b[38;5;28;01mimport\u001b[39;00m  ErdosRenyiDataset\n\u001b[1;32m      2\u001b[0m \u001b[38;5;66;03m# Initialize the ErdosRenyi dataset\u001b[39;00m\n\u001b[0;32m----> 3\u001b[0m dataset \u001b[38;5;241m=\u001b[39m \u001b[43mErdosRenyiDataset\u001b[49m\u001b[43m(\u001b[49m\n\u001b[1;32m      4\u001b[0m \u001b[43m    \u001b[49m\u001b[43mroot\u001b[49m\u001b[38;5;241;43m=\u001b[39;49m\u001b[38;5;124;43m\"\u001b[39;49m\u001b[38;5;124;43mpath/to/dataset\u001b[39;49m\u001b[38;5;124;43m\"\u001b[39;49m\u001b[43m,\u001b[49m\u001b[43m  \u001b[49m\u001b[38;5;66;43;03m# Specify the path to your dataset\u001b[39;49;00m\n\u001b[1;32m      5\u001b[0m \u001b[43m    \u001b[49m\u001b[43mnode_sizes\u001b[49m\u001b[38;5;241;43m=\u001b[39;49m\u001b[43m[\u001b[49m\u001b[38;5;241;43m20\u001b[39;49m\u001b[43m,\u001b[49m\u001b[43m \u001b[49m\u001b[38;5;241;43m40\u001b[39;49m\u001b[43m,\u001b[49m\u001b[43m \u001b[49m\u001b[38;5;241;43m80\u001b[39;49m\u001b[43m]\u001b[49m\u001b[43m,\u001b[49m\u001b[43m  \u001b[49m\u001b[38;5;66;43;03m# Node sizes\u001b[39;49;00m\n\u001b[1;32m      6\u001b[0m \u001b[43m    \u001b[49m\u001b[43mprobabilities\u001b[49m\u001b[38;5;241;43m=\u001b[39;49m\u001b[43m[\u001b[49m\u001b[38;5;241;43m0.2\u001b[39;49m\u001b[43m,\u001b[49m\u001b[43m \u001b[49m\u001b[38;5;241;43m0.4\u001b[39;49m\u001b[43m,\u001b[49m\u001b[43m \u001b[49m\u001b[38;5;241;43m0.6\u001b[39;49m\u001b[43m,\u001b[49m\u001b[43m \u001b[49m\u001b[38;5;241;43m0.8\u001b[39;49m\u001b[43m]\u001b[49m\u001b[43m,\u001b[49m\u001b[43m  \u001b[49m\u001b[38;5;66;43;03m# Probabilities for edges\u001b[39;49;00m\n\u001b[1;32m      7\u001b[0m \u001b[43m    \u001b[49m\u001b[43mnum_graphs_per_combination\u001b[49m\u001b[38;5;241;43m=\u001b[39;49m\u001b[38;5;241;43m10\u001b[39;49m\u001b[43m,\u001b[49m\u001b[43m  \u001b[49m\u001b[38;5;66;43;03m# Number of graphs per combination\u001b[39;49;00m\n\u001b[1;32m      8\u001b[0m \u001b[43m    \u001b[49m\u001b[43mdatatype\u001b[49m\u001b[38;5;241;43m=\u001b[39;49m\u001b[43mGraphDrawingData\u001b[49m\u001b[43m  \u001b[49m\u001b[38;5;66;43;03m# Using GraphDrawingData as the datatype\u001b[39;49;00m\n\u001b[1;32m      9\u001b[0m \u001b[43m)\u001b[49m\n\u001b[1;32m     11\u001b[0m \u001b[38;5;66;03m# Assuming layouts for ErdosRenyi graphs are provided or computed similarly\u001b[39;00m\n\u001b[1;32m     12\u001b[0m layouts \u001b[38;5;241m=\u001b[39m np\u001b[38;5;241m.\u001b[39mload(\u001b[38;5;124m\"\u001b[39m\u001b[38;5;124mpath/to/layouts/erdos_renyi_layouts.npy\u001b[39m\u001b[38;5;124m\"\u001b[39m, allow_pickle\u001b[38;5;241m=\u001b[39m\u001b[38;5;28;01mTrue\u001b[39;00m)\n",
      "File \u001b[0;32m/net/i01/work/mlyang721/DeepGD/deepgd/datasets/erdorenyi_dataset.py:40\u001b[0m, in \u001b[0;36mErdosRenyiDataset.__init__\u001b[0;34m(self, root, name, node_sizes, probabilities, num_graphs_per_combination, index, datatype)\u001b[0m\n\u001b[1;32m     38\u001b[0m \u001b[38;5;66;03m# Generate graphs and prepare data\u001b[39;00m\n\u001b[1;32m     39\u001b[0m data_list \u001b[38;5;241m=\u001b[39m \u001b[38;5;28mmap\u001b[39m(datatype\u001b[38;5;241m.\u001b[39mstatic_transform, tqdm(\u001b[38;5;28mself\u001b[39m, desc\u001b[38;5;241m=\u001b[39m\u001b[38;5;124mf\u001b[39m\u001b[38;5;124m\"\u001b[39m\u001b[38;5;124mTransform graphs\u001b[39m\u001b[38;5;124m\"\u001b[39m))\n\u001b[0;32m---> 40\u001b[0m data_list \u001b[38;5;241m=\u001b[39m \u001b[38;5;28;43mlist\u001b[39;49m\u001b[43m(\u001b[49m\u001b[43mdata_list\u001b[49m\u001b[43m)\u001b[49m\n\u001b[1;32m     41\u001b[0m \u001b[38;5;28mself\u001b[39m\u001b[38;5;241m.\u001b[39mdata, \u001b[38;5;28mself\u001b[39m\u001b[38;5;241m.\u001b[39mslices \u001b[38;5;241m=\u001b[39m \u001b[38;5;28mself\u001b[39m\u001b[38;5;241m.\u001b[39mcollate(data_list)\n",
      "File \u001b[0;32m~/anaconda3/envs/deepgd/lib/python3.10/site-packages/tqdm/std.py:1178\u001b[0m, in \u001b[0;36mtqdm.__iter__\u001b[0;34m(self)\u001b[0m\n\u001b[1;32m   1175\u001b[0m time \u001b[38;5;241m=\u001b[39m \u001b[38;5;28mself\u001b[39m\u001b[38;5;241m.\u001b[39m_time\n\u001b[1;32m   1177\u001b[0m \u001b[38;5;28;01mtry\u001b[39;00m:\n\u001b[0;32m-> 1178\u001b[0m     \u001b[38;5;28;01mfor\u001b[39;00m obj \u001b[38;5;129;01min\u001b[39;00m iterable:\n\u001b[1;32m   1179\u001b[0m         \u001b[38;5;28;01myield\u001b[39;00m obj\n\u001b[1;32m   1180\u001b[0m         \u001b[38;5;66;03m# Update and possibly print the progressbar.\u001b[39;00m\n\u001b[1;32m   1181\u001b[0m         \u001b[38;5;66;03m# Note: does not call self.update(1) for speed optimisation.\u001b[39;00m\n",
      "File \u001b[0;32m~/anaconda3/envs/deepgd/lib/python3.10/site-packages/torch_geometric/data/dataset.py:264\u001b[0m, in \u001b[0;36mDataset.__getitem__\u001b[0;34m(self, idx)\u001b[0m\n\u001b[1;32m    259\u001b[0m \u001b[38;5;28;01mif\u001b[39;00m (\u001b[38;5;28misinstance\u001b[39m(idx, (\u001b[38;5;28mint\u001b[39m, np\u001b[38;5;241m.\u001b[39minteger))\n\u001b[1;32m    260\u001b[0m         \u001b[38;5;129;01mor\u001b[39;00m (\u001b[38;5;28misinstance\u001b[39m(idx, Tensor) \u001b[38;5;129;01mand\u001b[39;00m idx\u001b[38;5;241m.\u001b[39mdim() \u001b[38;5;241m==\u001b[39m \u001b[38;5;241m0\u001b[39m)\n\u001b[1;32m    261\u001b[0m         \u001b[38;5;129;01mor\u001b[39;00m (\u001b[38;5;28misinstance\u001b[39m(idx, np\u001b[38;5;241m.\u001b[39mndarray) \u001b[38;5;129;01mand\u001b[39;00m np\u001b[38;5;241m.\u001b[39misscalar(idx))):\n\u001b[1;32m    263\u001b[0m     data \u001b[38;5;241m=\u001b[39m \u001b[38;5;28mself\u001b[39m\u001b[38;5;241m.\u001b[39mget(\u001b[38;5;28mself\u001b[39m\u001b[38;5;241m.\u001b[39mindices()[idx])\n\u001b[0;32m--> 264\u001b[0m     data \u001b[38;5;241m=\u001b[39m data \u001b[38;5;28;01mif\u001b[39;00m \u001b[38;5;28mself\u001b[39m\u001b[38;5;241m.\u001b[39mtransform \u001b[38;5;129;01mis\u001b[39;00m \u001b[38;5;28;01mNone\u001b[39;00m \u001b[38;5;28;01melse\u001b[39;00m \u001b[38;5;28;43mself\u001b[39;49m\u001b[38;5;241;43m.\u001b[39;49m\u001b[43mtransform\u001b[49m\u001b[43m(\u001b[49m\u001b[43mdata\u001b[49m\u001b[43m)\u001b[49m\n\u001b[1;32m    265\u001b[0m     \u001b[38;5;28;01mreturn\u001b[39;00m data\n\u001b[1;32m    267\u001b[0m \u001b[38;5;28;01melse\u001b[39;00m:\n",
      "File \u001b[0;32m/net/i01/work/mlyang721/DeepGD/deepgd/data/base_graph_drawing_data.py:185\u001b[0m, in \u001b[0;36mBaseGraphDrawingData.dynamic_transform\u001b[0;34m(self)\u001b[0m\n\u001b[1;32m    183\u001b[0m \u001b[38;5;28;01mdef\u001b[39;00m \u001b[38;5;21mdynamic_transform\u001b[39m(\u001b[38;5;28mself\u001b[39m) \u001b[38;5;241m-\u001b[39m\u001b[38;5;241m>\u001b[39m Self:\n\u001b[1;32m    184\u001b[0m     \u001b[38;5;28;01massert\u001b[39;00m \u001b[38;5;129;01mnot\u001b[39;00m \u001b[38;5;28misinstance\u001b[39m(\u001b[38;5;28mself\u001b[39m, Batch)\n\u001b[0;32m--> 185\u001b[0m     \u001b[38;5;28;01mreturn\u001b[39;00m T\u001b[38;5;241m.\u001b[39mCompose(\u001b[38;5;28;43mself\u001b[39;49m\u001b[38;5;241;43m.\u001b[39;49m\u001b[43m_transforms\u001b[49m(stage\u001b[38;5;241m=\u001b[39m\u001b[38;5;124m\"\u001b[39m\u001b[38;5;124mdynamic_transform\u001b[39m\u001b[38;5;124m\"\u001b[39m))(\u001b[38;5;28mself\u001b[39m)\n",
      "\u001b[0;31mAttributeError\u001b[0m: 'NoneType' object has no attribute '_transforms'"
     ]
    }
   ],
   "source": [
    "from deepgd.datasets import  ErdosRenyiDataset\n",
    "\n",
    "\n",
    "dataset = ErdosRenyiDataset(\n",
    "    root=\"path/to/dataset\",\n",
    "    node_sizes=[20, 40, 80],\n",
    "    probabilities=[0.2, 0.4, 0.6, 0.8],\n",
    "    num_graphs_per_combination=10,\n",
    "    datatype=GraphDrawingData\n",
    ")\n",
    "\n",
    "# 为每个图生成随机的初始位置\n",
    "for data in dataset:\n",
    "    data.pos = torch.rand((data.num_nodes, 2))  # 例如，为2D空间生成随机坐标\n",
    "\n",
    "# 使用 DataLoader 加载数据\n",
    "loader = DataLoader(dataset, batch_size=32, shuffle=True)\n"
   ]
  },
  {
   "cell_type": "markdown",
   "id": "bac68458",
   "metadata": {},
   "source": [
    "##### Rome Dataset"
   ]
  },
  {
   "cell_type": "code",
   "execution_count": null,
   "id": "6d46e937",
   "metadata": {},
   "outputs": [],
   "source": [
    "GraphDrawingData.set_optional_fields([\"edge_pair_metaindex\", \"face\", \"rng\"])\n",
    "dataset = RomeDataset(\n",
    "    index=pd.read_csv(\"assets/rome_index.txt\", header=None)[0],\n",
    ")\n",
    "layouts = np.load(\"assets/layouts/pmds.npy\", allow_pickle=True)"
   ]
  },
  {
   "cell_type": "markdown",
   "id": "9d4b590b",
   "metadata": {},
   "source": [
    "===================================================================================="
   ]
  },
  {
   "cell_type": "code",
   "execution_count": 5,
   "id": "f5438faa-6332-46be-92c3-f80337e46009",
   "metadata": {
    "ExecuteTime": {
     "end_time": "2024-08-06T06:47:20.990407Z",
     "start_time": "2024-08-06T06:44:59.523661Z"
    }
   },
   "outputs": [
    {
     "name": "stderr",
     "output_type": "stream",
     "text": [
      "Downloading https://www.graphdrawing.org/download/rome-graphml.tgz\n",
      "Extracting datasets/Rome/raw/rome-graphml.tgz\n",
      "Processing...\n"
     ]
    },
    {
     "data": {
      "application/vnd.jupyter.widget-view+json": {
       "model_id": "e6711ce6e43d415cb4bfbaf4f82646a8",
       "version_major": 2,
       "version_minor": 0
      },
      "text/plain": [
       "Loading graphs:   0%|          | 0/11534 [00:00<?, ?it/s]"
      ]
     },
     "metadata": {},
     "output_type": "display_data"
    },
    {
     "name": "stderr",
     "output_type": "stream",
     "text": [
      "Done!\n"
     ]
    },
    {
     "data": {
      "application/vnd.jupyter.widget-view+json": {
       "model_id": "72ba88fff3384998bc819cf8e9aaf903",
       "version_major": 2,
       "version_minor": 0
      },
      "text/plain": [
       "Transform graphs:   0%|          | 0/11531 [00:00<?, ?it/s]"
      ]
     },
     "metadata": {},
     "output_type": "display_data"
    }
   ],
   "source": [
    "\n",
    "params = Generator.Params(\n",
    "    num_blocks=11,\n",
    "    block_depth=3,\n",
    "    block_width=8,\n",
    "    block_output_dim=8,\n",
    "    edge_net_depth=2,\n",
    "    edge_net_width=16,\n",
    "    edge_attr_dim=2,\n",
    "    node_attr_dim=2,\n",
    ")\n",
    "model = Generator(\n",
    "    params=params,\n",
    ").to(device)\n",
    "criteria = {\n",
    "    Stress(): 1,\n",
    "    # dgd.EdgeVar(): 0,\n",
    "    # dgd.Occlusion(): 0,\n",
    "    # dgd.IncidentAngle(): 0,\n",
    "    # dgd.TSNEScore(): 0,\n",
    "}"
   ]
  },
  {
   "cell_type": "code",
   "execution_count": 7,
   "id": "20544c19d8ad0e27",
   "metadata": {
    "ExecuteTime": {
     "end_time": "2024-08-06T06:49:07.402041Z",
     "start_time": "2024-08-06T06:49:07.373613Z"
    }
   },
   "outputs": [],
   "source": [
    "optim = torch.optim.AdamW(model.parameters(), lr=lr)\n",
    "scheduler = torch.optim.lr_scheduler.ExponentialLR(optim, gamma=decay)"
   ]
  },
  {
   "cell_type": "code",
   "execution_count": 8,
   "id": "933f88a3b2e9bc8",
   "metadata": {
    "ExecuteTime": {
     "end_time": "2024-08-06T06:49:10.077801Z",
     "start_time": "2024-08-06T06:49:08.206332Z"
    }
   },
   "outputs": [],
   "source": [
    "datalist = list(dataset)\n",
    "for i, data in enumerate(datalist):\n",
    "    data.pos = torch.tensor(layouts[i]).float()"
   ]
  },
  {
   "cell_type": "code",
   "execution_count": 9,
   "id": "83d0207a-1e7e-4bca-95ae-433901d2fff8",
   "metadata": {
    "ExecuteTime": {
     "end_time": "2024-08-06T06:49:10.856954Z",
     "start_time": "2024-08-06T06:49:10.830484Z"
    }
   },
   "outputs": [],
   "source": [
    "train_loader = pyg.loader.DataLoader(datalist[:10000], batch_size=batch_size, shuffle=True)\n",
    "val_loader = pyg.loader.DataLoader(datalist[11000:], batch_size=batch_size, shuffle=False)\n",
    "test_loader = pyg.loader.DataLoader(datalist[10000:11000], batch_size=batch_size, shuffle=False)"
   ]
  },
  {
   "cell_type": "code",
   "execution_count": 10,
   "id": "ee72999876d0714b",
   "metadata": {
    "ExecuteTime": {
     "end_time": "2024-08-06T06:49:14.573548Z",
     "start_time": "2024-08-06T06:49:14.546598Z"
    }
   },
   "outputs": [],
   "source": [
    "def generate_init_pos(batch):\n",
    "    # pos = torch.rand_like(batch.pos)\n",
    "    pos = rescale_by_stress(\n",
    "        pos=batch.pos,\n",
    "        apsp=batch.apsp_attr,\n",
    "        edge_index=batch.perm_index,\n",
    "        batch_index=batch.batch,\n",
    "    )\n",
    "    return pos\n",
    "\n",
    "def get_edge_features(all_pair_shortest_path):\n",
    "    return torch.cat([\n",
    "        all_pair_shortest_path[:, None],\n",
    "        1 / all_pair_shortest_path[:, None].square()\n",
    "    ], dim=-1)\n",
    "\n",
    "def rescale_by_stress(pos, apsp, edge_index, batch_index):\n",
    "    src_pos, dst_pos = pos[edge_index[0]], pos[edge_index[1]]\n",
    "    dist = (dst_pos - src_pos).norm(dim=1)\n",
    "    u_over_d = dist / apsp\n",
    "    scatterd_u_over_d_2 = pyg.utils.scatter(u_over_d ** 2, batch_index[edge_index[0]])\n",
    "    scatterd_u_over_d = pyg.utils.scatter(u_over_d, batch_index[edge_index[0]])\n",
    "    scale = scatterd_u_over_d_2 / scatterd_u_over_d\n",
    "    return pos / scale[batch_index][:, None]"
   ]
  },
  {
   "cell_type": "code",
   "execution_count": 12,
   "id": "d659617700b8e1e6",
   "metadata": {
    "ExecuteTime": {
     "end_time": "2024-08-06T06:51:42.178641Z",
     "start_time": "2024-08-06T06:51:41.788517Z"
    }
   },
   "outputs": [
    {
     "data": {
      "text/plain": [
       "<All keys matched successfully>"
      ]
     },
     "execution_count": 12,
     "metadata": {},
     "output_type": "execute_result"
    }
   ],
   "source": [
    "model.load_state_dict(torch.load(\"model_359.pt\", map_location=device))"
   ]
  },
  {
   "cell_type": "code",
   "execution_count": null,
   "id": "840e2975-0553-4e47-952d-a3ae1a57928a",
   "metadata": {
    "scrolled": true,
    "tags": []
   },
   "outputs": [],
   "source": [
    "for epoch in range(1000):\n",
    "    model.train()\n",
    "    losses = []\n",
    "    for batch in tqdm(train_loader):\n",
    "        batch = batch.to(device)\n",
    "        model.zero_grad()\n",
    "        loss = 0\n",
    "        for c, w in criteria.items():\n",
    "            pred = model(\n",
    "                init_pos=generate_init_pos(batch),\n",
    "                edge_index=batch.perm_index,\n",
    "                edge_attr=get_edge_features(batch.apsp_attr),\n",
    "                batch_index=batch.batch,\n",
    "            )\n",
    "            pos = rescale_by_stress(pred, batch.apsp_attr, batch.perm_index, batch.batch)\n",
    "            loss += w * c(pos, batch.perm_index, batch.apsp_attr, batch.batch)\n",
    "        loss.backward()\n",
    "        optim.step()\n",
    "        losses.append(loss.item())\n",
    "    scheduler.step()\n",
    "    print(f'[Epoch {epoch}] Train Loss: {np.mean(losses)}')\n",
    "    with torch.no_grad():\n",
    "        model.eval()\n",
    "        losses = []\n",
    "        for batch in tqdm(val_loader, disable=True):\n",
    "            batch = batch.to(device)\n",
    "            loss = 0\n",
    "            for c, w in criteria.items():\n",
    "                pred = model(\n",
    "                    init_pos=generate_init_pos(batch),\n",
    "                    edge_index=batch.perm_index,\n",
    "                    edge_attr=get_edge_features(batch.apsp_attr),\n",
    "                    batch_index=batch.batch,\n",
    "                )\n",
    "                pos = rescale_by_stress(pred, batch.apsp_attr, batch.perm_index, batch.batch)\n",
    "                loss += w * c(pos, batch.perm_index, batch.apsp_attr, batch.batch)\n",
    "            losses.append(loss.item())\n",
    "        print(f'[Epoch {epoch}] Val Loss: {np.mean(losses)}')"
   ]
  },
  {
   "cell_type": "code",
   "execution_count": 15,
   "id": "2a9245be-7331-4d25-891b-5c0ca93186e4",
   "metadata": {
    "ExecuteTime": {
     "end_time": "2024-08-06T06:53:42.486889Z",
     "start_time": "2024-08-06T06:53:16.141813Z"
    }
   },
   "outputs": [
    {
     "name": "stdout",
     "output_type": "stream",
     "text": [
      "Test Loss: 234.92233180999756\n"
     ]
    }
   ],
   "source": [
    "with torch.no_grad():\n",
    "    model.eval()\n",
    "    losses = []\n",
    "    for batch in tqdm(test_loader, disable=True):\n",
    "        batch = batch.to(device)\n",
    "        loss = 0\n",
    "        for c, w in criteria.items():\n",
    "            pred = model(\n",
    "                init_pos=generate_init_pos(batch),\n",
    "                edge_index=batch.perm_index,\n",
    "                edge_attr=get_edge_features(batch.apsp_attr),\n",
    "                batch_index=batch.batch,\n",
    "            )\n",
    "            pos = rescale_by_stress(pred, batch.apsp_attr, batch.perm_index, batch.batch)\n",
    "            loss += w * c(pos, batch.perm_index, batch.apsp_attr, batch.batch)\n",
    "        losses.append(loss.item())\n",
    "    print(f'Test Loss: {np.mean(losses)}')"
   ]
  },
  {
   "cell_type": "code",
   "execution_count": null,
   "id": "5df250c999ffe626",
   "metadata": {},
   "outputs": [],
   "source": []
  }
 ],
 "metadata": {
  "kernelspec": {
   "display_name": "Python 3 (ipykernel)",
   "language": "python",
   "name": "python3"
  },
  "language_info": {
   "codemirror_mode": {
    "name": "ipython",
    "version": 3
   },
   "file_extension": ".py",
   "mimetype": "text/x-python",
   "name": "python",
   "nbconvert_exporter": "python",
   "pygments_lexer": "ipython3",
   "version": "3.10.14"
  },
  "widgets": {
   "application/vnd.jupyter.widget-state+json": {
    "state": {
     "1a6eaadc214a40b8a2fa048f934db6d0": {
      "model_module": "@jupyter-widgets/controls",
      "model_module_version": "1.5.0",
      "model_name": "HTMLModel",
      "state": {
       "layout": "IPY_MODEL_40c664d572b84ef18b87ead26e1394fd",
       "style": "IPY_MODEL_80769a69b258448ba022beb13ba6364a",
       "value": " 2/79 [03:39&lt;2:08:39, 100.26s/it]"
      }
     },
     "1d73892e8c254708ad3918446d1b971d": {
      "model_module": "@jupyter-widgets/controls",
      "model_module_version": "1.5.0",
      "model_name": "HTMLModel",
      "state": {
       "layout": "IPY_MODEL_27d2c0b03e77463ca2d1ef57e2dbb80c",
       "style": "IPY_MODEL_5a505a3ee60b4cec94a909ee77bc9e88",
       "value": "Loading graphs: 100%"
      }
     },
     "21287ad6d5e94484936bd93b6f85b49f": {
      "model_module": "@jupyter-widgets/controls",
      "model_module_version": "1.5.0",
      "model_name": "DescriptionStyleModel",
      "state": {
       "description_width": ""
      }
     },
     "24c3a3de365e4f25b0a1bea6f0fb668c": {
      "model_module": "@jupyter-widgets/controls",
      "model_module_version": "1.5.0",
      "model_name": "HTMLModel",
      "state": {
       "layout": "IPY_MODEL_7418bd6443174ebf9271fa554d755cb6",
       "style": "IPY_MODEL_89249e08e1e3471682df33d354d7719a",
       "value": " 11534/11534 [02:08&lt;00:00, 135.57it/s]"
      }
     },
     "27d2c0b03e77463ca2d1ef57e2dbb80c": {
      "model_module": "@jupyter-widgets/base",
      "model_module_version": "1.2.0",
      "model_name": "LayoutModel",
      "state": {}
     },
     "40c664d572b84ef18b87ead26e1394fd": {
      "model_module": "@jupyter-widgets/base",
      "model_module_version": "1.2.0",
      "model_name": "LayoutModel",
      "state": {}
     },
     "45147e50fc8f4baebe21cd0514d03651": {
      "model_module": "@jupyter-widgets/base",
      "model_module_version": "1.2.0",
      "model_name": "LayoutModel",
      "state": {}
     },
     "4df22612cbdf457690de3a21e160aa38": {
      "model_module": "@jupyter-widgets/base",
      "model_module_version": "1.2.0",
      "model_name": "LayoutModel",
      "state": {}
     },
     "5a505a3ee60b4cec94a909ee77bc9e88": {
      "model_module": "@jupyter-widgets/controls",
      "model_module_version": "1.5.0",
      "model_name": "DescriptionStyleModel",
      "state": {
       "description_width": ""
      }
     },
     "6e77e20f7c004d279691b884ca326aad": {
      "model_module": "@jupyter-widgets/controls",
      "model_module_version": "1.5.0",
      "model_name": "HBoxModel",
      "state": {
       "children": [
        "IPY_MODEL_8b937b880a894a71a97b31715f2a1f4c",
        "IPY_MODEL_db06b803a3a24d01b9b1c2b1e05ae83a",
        "IPY_MODEL_1a6eaadc214a40b8a2fa048f934db6d0"
       ],
       "layout": "IPY_MODEL_4df22612cbdf457690de3a21e160aa38"
      }
     },
     "73376bdf366c44bfb463627255caa47e": {
      "model_module": "@jupyter-widgets/controls",
      "model_module_version": "1.5.0",
      "model_name": "FloatProgressModel",
      "state": {
       "bar_style": "success",
       "layout": "IPY_MODEL_9e7c9d6193914fe0aaa1eebe6b6c059d",
       "max": 11534,
       "style": "IPY_MODEL_8b02a3651eb54471a990e3928f56d001",
       "value": 11534
      }
     },
     "7418bd6443174ebf9271fa554d755cb6": {
      "model_module": "@jupyter-widgets/base",
      "model_module_version": "1.2.0",
      "model_name": "LayoutModel",
      "state": {}
     },
     "80769a69b258448ba022beb13ba6364a": {
      "model_module": "@jupyter-widgets/controls",
      "model_module_version": "1.5.0",
      "model_name": "DescriptionStyleModel",
      "state": {
       "description_width": ""
      }
     },
     "89249e08e1e3471682df33d354d7719a": {
      "model_module": "@jupyter-widgets/controls",
      "model_module_version": "1.5.0",
      "model_name": "DescriptionStyleModel",
      "state": {
       "description_width": ""
      }
     },
     "8b02a3651eb54471a990e3928f56d001": {
      "model_module": "@jupyter-widgets/controls",
      "model_module_version": "1.5.0",
      "model_name": "ProgressStyleModel",
      "state": {
       "description_width": ""
      }
     },
     "8b937b880a894a71a97b31715f2a1f4c": {
      "model_module": "@jupyter-widgets/controls",
      "model_module_version": "1.5.0",
      "model_name": "HTMLModel",
      "state": {
       "layout": "IPY_MODEL_45147e50fc8f4baebe21cd0514d03651",
       "style": "IPY_MODEL_21287ad6d5e94484936bd93b6f85b49f",
       "value": "  3%"
      }
     },
     "93b07268006b4c8ea3508cc0a8708e7a": {
      "model_module": "@jupyter-widgets/base",
      "model_module_version": "1.2.0",
      "model_name": "LayoutModel",
      "state": {}
     },
     "9e7c9d6193914fe0aaa1eebe6b6c059d": {
      "model_module": "@jupyter-widgets/base",
      "model_module_version": "1.2.0",
      "model_name": "LayoutModel",
      "state": {}
     },
     "db06b803a3a24d01b9b1c2b1e05ae83a": {
      "model_module": "@jupyter-widgets/controls",
      "model_module_version": "1.5.0",
      "model_name": "FloatProgressModel",
      "state": {
       "bar_style": "danger",
       "layout": "IPY_MODEL_f4c410d18e994023b2ba1fc6ed46b5d1",
       "max": 79,
       "style": "IPY_MODEL_e659a35bdcf6428abeb1b6f9c003c325",
       "value": 2
      }
     },
     "dcc6a4b6eeac482ab4b1935722126823": {
      "model_module": "@jupyter-widgets/controls",
      "model_module_version": "1.5.0",
      "model_name": "HBoxModel",
      "state": {
       "children": [
        "IPY_MODEL_1d73892e8c254708ad3918446d1b971d",
        "IPY_MODEL_73376bdf366c44bfb463627255caa47e",
        "IPY_MODEL_24c3a3de365e4f25b0a1bea6f0fb668c"
       ],
       "layout": "IPY_MODEL_93b07268006b4c8ea3508cc0a8708e7a"
      }
     },
     "e659a35bdcf6428abeb1b6f9c003c325": {
      "model_module": "@jupyter-widgets/controls",
      "model_module_version": "1.5.0",
      "model_name": "ProgressStyleModel",
      "state": {
       "description_width": ""
      }
     },
     "f4c410d18e994023b2ba1fc6ed46b5d1": {
      "model_module": "@jupyter-widgets/base",
      "model_module_version": "1.2.0",
      "model_name": "LayoutModel",
      "state": {}
     }
    },
    "version_major": 2,
    "version_minor": 0
   }
  }
 },
 "nbformat": 4,
 "nbformat_minor": 5
}
