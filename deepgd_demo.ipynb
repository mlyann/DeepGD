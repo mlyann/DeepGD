{
 "cells": [
  {
   "cell_type": "code",
   "execution_count": 3,
   "id": "61bcb190-671c-4e75-9469-1bd4c801c29d",
   "metadata": {
    "ExecuteTime": {
     "end_time": "2024-08-06T06:42:58.636822Z",
     "start_time": "2024-08-06T06:42:58.575046Z"
    }
   },
   "outputs": [],
   "source": [
    "%load_ext autoreload\n",
    "%autoreload 2"
   ]
  },
  {
   "cell_type": "code",
   "execution_count": 4,
   "id": "4b5d7c53-d37c-4c03-9713-cd8ffaa6d0dd",
   "metadata": {
    "ExecuteTime": {
     "end_time": "2024-08-06T06:44:54.875719Z",
     "start_time": "2024-08-06T06:44:07.578049Z"
    }
   },
   "outputs": [],
   "source": [
    "import pandas as pd\n",
    "import numpy as np\n",
    "import torch\n",
    "import torch_geometric as pyg\n",
    "from tqdm.auto import *\n",
    "\n",
    "from deepgd.model import Generator\n",
    "from deepgd.data import GraphDrawingData\n",
    "from deepgd.datasets import  RomeDataset\n",
    "\n",
    "from deepgd.metrics import Stress"
   ]
  },
  {
   "cell_type": "code",
   "execution_count": 5,
   "id": "5b3b2978",
   "metadata": {},
   "outputs": [],
   "source": [
    "np.random.seed(721)\n",
    "torch.manual_seed(721)\n",
    "torch.cuda.manual_seed_all(721)"
   ]
  },
  {
   "cell_type": "code",
   "execution_count": 6,
   "id": "1ecb6a05-deff-4ebc-a4be-7e3bd2ffada5",
   "metadata": {
    "ExecuteTime": {
     "end_time": "2024-08-06T06:44:56.742Z",
     "start_time": "2024-08-06T06:44:56.656606Z"
    }
   },
   "outputs": [
    {
     "name": "stderr",
     "output_type": "stream",
     "text": [
      "/work/mlyang721/anaconda3/envs/deepgd/lib/python3.10/site-packages/torch/cuda/__init__.py:128: UserWarning: CUDA initialization: The NVIDIA driver on your system is too old (found version 11040). Please update your GPU driver by downloading and installing a new version from the URL: http://www.nvidia.com/Download/index.aspx Alternatively, go to: https://pytorch.org to install a PyTorch version that has been compiled with your version of the CUDA driver. (Triggered internally at ../c10/cuda/CUDAFunctions.cpp:108.)\n",
      "  return torch._C._cuda_getDeviceCount() > 0\n"
     ]
    }
   ],
   "source": [
    "device = \"cpu\"\n",
    "for backend, device_name in {\n",
    "    torch.backends.mps: \"mps\",\n",
    "    torch.cuda: \"cuda\",\n",
    "}.items():\n",
    "    if backend.is_available():\n",
    "        device = device_name"
   ]
  },
  {
   "cell_type": "code",
   "execution_count": 7,
   "id": "31fa6e3c690c3c42",
   "metadata": {
    "ExecuteTime": {
     "end_time": "2024-08-06T06:49:02.368899Z",
     "start_time": "2024-08-06T06:49:02.333849Z"
    }
   },
   "outputs": [],
   "source": [
    "batch_size = 32\n",
    "lr = 0.001\n",
    "decay = 0.998"
   ]
  },
  {
   "cell_type": "markdown",
   "id": "a0df0c2d",
   "metadata": {},
   "source": [
    "===================================================================================="
   ]
  },
  {
   "cell_type": "markdown",
   "id": "6db1a4dc",
   "metadata": {},
   "source": [
    "##### ErdosRenyi Dataset"
   ]
  },
  {
   "cell_type": "markdown",
   "id": "bac68458",
   "metadata": {},
   "source": [
    "##### Rome Dataset"
   ]
  },
  {
   "cell_type": "code",
   "execution_count": 8,
   "id": "6d46e937",
   "metadata": {},
   "outputs": [
    {
     "name": "stdout",
     "output_type": "stream",
     "text": [
      "inside init\n",
      "raw_file_names\n",
      "inside _parse_metadata\n"
     ]
    },
    {
     "name": "stderr",
     "output_type": "stream",
     "text": [
      "/work/mlyang721/anaconda3/envs/deepgd/lib/python3.10/site-packages/torch_geometric/data/dataset.py:213: FutureWarning: You are using `torch.load` with `weights_only=False` (the current default value), which uses the default pickle module implicitly. It is possible to construct malicious pickle data which will execute arbitrary code during unpickling (See https://github.com/pytorch/pytorch/blob/main/SECURITY.md#untrusted-models for more details). In a future release, the default value for `weights_only` will be flipped to `True`. This limits the functions that could be executed during unpickling. Arbitrary objects will no longer be allowed to be loaded via this mode unless they are explicitly allowlisted by the user via `torch.serialization.add_safe_globals`. We recommend you start setting `weights_only=True` for any use case where you don't have full control of the loaded file. Please open an issue on GitHub for any issues related to this experimental feature.\n",
      "  if osp.exists(f) and torch.load(f) != _repr(self.pre_transform):\n",
      "/work/mlyang721/anaconda3/envs/deepgd/lib/python3.10/site-packages/torch_geometric/data/dataset.py:221: FutureWarning: You are using `torch.load` with `weights_only=False` (the current default value), which uses the default pickle module implicitly. It is possible to construct malicious pickle data which will execute arbitrary code during unpickling (See https://github.com/pytorch/pytorch/blob/main/SECURITY.md#untrusted-models for more details). In a future release, the default value for `weights_only` will be flipped to `True`. This limits the functions that could be executed during unpickling. Arbitrary objects will no longer be allowed to be loaded via this mode unless they are explicitly allowlisted by the user via `torch.serialization.add_safe_globals`. We recommend you start setting `weights_only=True` for any use case where you don't have full control of the loaded file. Please open an issue on GitHub for any issues related to this experimental feature.\n",
      "  if osp.exists(f) and torch.load(f) != _repr(self.pre_filter):\n",
      "/net/i01/work/mlyang721/DeepGD/deepgd/datasets/rome_dataset.py:42: FutureWarning: You are using `torch.load` with `weights_only=False` (the current default value), which uses the default pickle module implicitly. It is possible to construct malicious pickle data which will execute arbitrary code during unpickling (See https://github.com/pytorch/pytorch/blob/main/SECURITY.md#untrusted-models for more details). In a future release, the default value for `weights_only` will be flipped to `True`. This limits the functions that could be executed during unpickling. Arbitrary objects will no longer be allowed to be loaded via this mode unless they are explicitly allowlisted by the user via `torch.serialization.add_safe_globals`. We recommend you start setting `weights_only=True` for any use case where you don't have full control of the loaded file. Please open an issue on GitHub for any issues related to this experimental feature.\n",
      "  self.data, self.slices = torch.load(self.data_path)\n"
     ]
    },
    {
     "name": "stdout",
     "output_type": "stream",
     "text": [
      "processed_file_names\n",
      "processed_file_names\n",
      "processed_file_names\n"
     ]
    },
    {
     "data": {
      "application/vnd.jupyter.widget-view+json": {
       "model_id": "29652cc03a96447f8410fbcf25b2e458",
       "version_major": 2,
       "version_minor": 0
      },
      "text/plain": [
       "Transform graphs:   0%|          | 0/347 [00:00<?, ?it/s]"
      ]
     },
     "metadata": {},
     "output_type": "display_data"
    },
    {
     "name": "stdout",
     "output_type": "stream",
     "text": [
      "data dictionary size: 347\n",
      "Graph erdos_renyi_20_0.2_graph_0 not found\n",
      "Graph erdos_renyi_20_0.2_graph_1 not found\n",
      "Graph erdos_renyi_20_0.2_graph_6 not found\n",
      "347\n"
     ]
    }
   ],
   "source": [
    "GraphDrawingData.set_optional_fields([\"edge_pair_metaindex\", \"face\", \"rng\"])\n",
    "dataset = RomeDataset(\n",
    "    index=pd.read_csv(\"assets/rome_index.txt\", header=None)[0],\n",
    ")\n",
    "print(len(dataset))\n",
    "layouts = np.load(\"assets/layouts/pmds.npy\", allow_pickle=True)"
   ]
  },
  {
   "cell_type": "markdown",
   "id": "9d4b590b",
   "metadata": {},
   "source": [
    "===================================================================================="
   ]
  },
  {
   "cell_type": "code",
   "execution_count": 9,
   "id": "f5438faa-6332-46be-92c3-f80337e46009",
   "metadata": {
    "ExecuteTime": {
     "end_time": "2024-08-06T06:47:20.990407Z",
     "start_time": "2024-08-06T06:44:59.523661Z"
    }
   },
   "outputs": [],
   "source": [
    "\n",
    "params = Generator.Params(\n",
    "    num_blocks=11,\n",
    "    block_depth=3,\n",
    "    block_width=8,\n",
    "    block_output_dim=8,\n",
    "    edge_net_depth=2,\n",
    "    edge_net_width=16,\n",
    "    edge_attr_dim=2,\n",
    "    node_attr_dim=2,\n",
    ")\n",
    "model = Generator(\n",
    "    params=params,\n",
    ").to(device)\n",
    "criteria = {\n",
    "    Stress(): 1,\n",
    "    # dgd.EdgeVar(): 0,\n",
    "    # dgd.Occlusion(): 0,\n",
    "    # dgd.IncidentAngle(): 0,\n",
    "    # dgd.TSNEScore(): 0,\n",
    "}"
   ]
  },
  {
   "cell_type": "code",
   "execution_count": 10,
   "id": "20544c19d8ad0e27",
   "metadata": {
    "ExecuteTime": {
     "end_time": "2024-08-06T06:49:07.402041Z",
     "start_time": "2024-08-06T06:49:07.373613Z"
    }
   },
   "outputs": [],
   "source": [
    "optim = torch.optim.AdamW(model.parameters(), lr=lr)\n",
    "scheduler = torch.optim.lr_scheduler.ExponentialLR(optim, gamma=decay)"
   ]
  },
  {
   "cell_type": "code",
   "execution_count": 11,
   "id": "933f88a3b2e9bc8",
   "metadata": {
    "ExecuteTime": {
     "end_time": "2024-08-06T06:49:10.077801Z",
     "start_time": "2024-08-06T06:49:08.206332Z"
    }
   },
   "outputs": [],
   "source": [
    "datalist = list(dataset)\n",
    "for i, data in enumerate(datalist):\n",
    "    data.pos = torch.tensor(layouts[i]).float()"
   ]
  },
  {
   "cell_type": "code",
   "execution_count": 12,
   "id": "83d0207a-1e7e-4bca-95ae-433901d2fff8",
   "metadata": {
    "ExecuteTime": {
     "end_time": "2024-08-06T06:49:10.856954Z",
     "start_time": "2024-08-06T06:49:10.830484Z"
    }
   },
   "outputs": [],
   "source": [
    "train_loader = pyg.loader.DataLoader(datalist[:10000], batch_size=batch_size, shuffle=True)\n",
    "val_loader = pyg.loader.DataLoader(datalist[11000:], batch_size=batch_size, shuffle=False)\n",
    "# test_loader = pyg.loader.DataLoader(datalist[10000:11000], batch_size=batch_size, shuffle=False)\n",
    "test_loader = pyg.loader.DataLoader(datalist[:300], batch_size=batch_size, shuffle=False)"
   ]
  },
  {
   "cell_type": "code",
   "execution_count": 29,
   "id": "ee72999876d0714b",
   "metadata": {
    "ExecuteTime": {
     "end_time": "2024-08-06T06:49:14.573548Z",
     "start_time": "2024-08-06T06:49:14.546598Z"
    }
   },
   "outputs": [],
   "source": [
    "import networkx as nx\n",
    "def generate_init_pos(batch):\n",
    "    # pos = torch.rand_like(batch.pos)\n",
    "    print(\"batch.G\",batch.G)\n",
    "    combined_graph = batch.G[0]\n",
    "    # Combine each subsequent graph\n",
    "    for g in batch.G[1:]:\n",
    "        combined_graph = nx.disjoint_union(combined_graph, g)\n",
    "    pos = rescale_by_stress(\n",
    "        # pos = torch.tensor(list(nx.spectral_layout(nx.compose(*batch.G)).values()), dtype=torch.float32),\n",
    "        pos = torch.tensor(list(nx.spectral_layout(combined_graph).values()), dtype=torch.float32),\n",
    "        apsp=batch.apsp_attr,\n",
    "        edge_index=batch.perm_index,\n",
    "        batch_index=batch.batch,\n",
    "    )\n",
    "    print(\" shape after rescale_by_stress:\", pos.shape)\n",
    "    return pos\n",
    "\n",
    "\n",
    "def get_edge_features(all_pair_shortest_path):\n",
    "    return torch.cat([\n",
    "        all_pair_shortest_path[:, None],\n",
    "        1 / all_pair_shortest_path[:, None].square()\n",
    "    ], dim=-1)\n",
    "\n",
    "# def rescale_by_stress(pos, apsp, edge_index, batch_index):  \n",
    "#     src_pos, dst_pos = pos[edge_index[0]], pos[edge_index[1]]\n",
    "#     dist = (dst_pos - src_pos).norm(dim=1)\n",
    "#     u_over_d = dist / apsp\n",
    "    \n",
    "#     # Ensuring we cover all indices that pos might reference\n",
    "#     max_index = pos.size(0)\n",
    "#     scatterd_u_over_d_2 = pyg.utils.scatter(u_over_d ** 2, batch_index[edge_index[0]], dim_size=max_index)\n",
    "#     scatterd_u_over_d = pyg.utils.scatter(u_over_d, batch_index[edge_index[0]], dim_size=max_index)\n",
    "\n",
    "#     scale = scatterd_u_over_d_2 / scatterd_u_over_d\n",
    "    \n",
    "#     # print(\"pos shape:\", pos.shape)\n",
    "#     # print(\"scale shape:\", scale.shape)\n",
    "#     # print(\"adjusted scale shape for operation:\", scale[batch_index][:, None].shape)\n",
    "#     # print(\"Max edge index:\", torch.max(edge_index).item())\n",
    "#     # print(\"Number of positions available:\", pos.size(0))\n",
    "\n",
    "#     scaled_pos = pos / scale[:, None]\n",
    "#     # print(\"Shape of scaled positions:\", scaled_pos.shape)\n",
    "\n",
    "#     return scaled_pos\n",
    "\n",
    "def rescale_by_stress(pos, apsp, edge_index):  \n",
    "    src_pos, dst_pos = pos[edge_index[0]], pos[edge_index[1]]\n",
    "    dist = (dst_pos - src_pos).norm(dim=1)\n",
    "    \n",
    "    # 避免除以零\n",
    "    mask = apsp != 0\n",
    "    if mask.sum() == 0:\n",
    "        return pos  # 如果所有 apsp 都为零，直接返回原始位置\n",
    "    u_over_d = dist[mask] / apsp[mask]\n",
    "    \n",
    "    # 计算缩放因子\n",
    "    numerator = pyg.utils.scatter(u_over_d ** 2, edge_index[0][mask], dim_size=pos.size(0))\n",
    "    denominator = pyg.utils.scatter(u_over_d, edge_index[0][mask], dim_size=pos.size(0))\n",
    "    scale = numerator / denominator\n",
    "    \n",
    "    # 避免缩放因子为零\n",
    "    scale[scale == 0] = 1.0\n",
    "    \n",
    "    scaled_pos = pos / scale[:, None]\n",
    "    return scaled_pos\n"
   ]
  },
  {
   "cell_type": "code",
   "execution_count": 24,
   "id": "d659617700b8e1e6",
   "metadata": {
    "ExecuteTime": {
     "end_time": "2024-08-06T06:51:42.178641Z",
     "start_time": "2024-08-06T06:51:41.788517Z"
    }
   },
   "outputs": [
    {
     "name": "stderr",
     "output_type": "stream",
     "text": [
      "/tmp/ipykernel_1793/3491819972.py:1: FutureWarning: You are using `torch.load` with `weights_only=False` (the current default value), which uses the default pickle module implicitly. It is possible to construct malicious pickle data which will execute arbitrary code during unpickling (See https://github.com/pytorch/pytorch/blob/main/SECURITY.md#untrusted-models for more details). In a future release, the default value for `weights_only` will be flipped to `True`. This limits the functions that could be executed during unpickling. Arbitrary objects will no longer be allowed to be loaded via this mode unless they are explicitly allowlisted by the user via `torch.serialization.add_safe_globals`. We recommend you start setting `weights_only=True` for any use case where you don't have full control of the loaded file. Please open an issue on GitHub for any issues related to this experimental feature.\n",
      "  model.load_state_dict(torch.load(\"model_359.pt\", map_location=device))\n"
     ]
    },
    {
     "data": {
      "text/plain": [
       "<All keys matched successfully>"
      ]
     },
     "execution_count": 24,
     "metadata": {},
     "output_type": "execute_result"
    }
   ],
   "source": [
    "model.load_state_dict(torch.load(\"model_359.pt\", map_location=device))"
   ]
  },
  {
   "cell_type": "code",
   "execution_count": 25,
   "id": "840e2975-0553-4e47-952d-a3ae1a57928a",
   "metadata": {
    "scrolled": true,
    "tags": []
   },
   "outputs": [],
   "source": [
    "# for epoch in range(1000):\n",
    "for epoch in range(0):\n",
    "    model.train()\n",
    "    losses = []\n",
    "    for batch in tqdm(train_loader):\n",
    "        batch = batch.to(device)\n",
    "        model.zero_grad()\n",
    "        loss = 0\n",
    "        for c, w in criteria.items():\n",
    "            pred = model(\n",
    "                init_pos=generate_init_pos(batch),\n",
    "                edge_index=batch.perm_index,\n",
    "                edge_attr=get_edge_features(batch.apsp_attr),\n",
    "                batch_index=batch.batch,\n",
    "            )\n",
    "            pos = rescale_by_stress(pred, batch.apsp_attr, batch.perm_index, batch.batch)\n",
    "            loss += w * c(pos, batch.perm_index, batch.apsp_attr, batch.batch)\n",
    "        loss.backward()\n",
    "        optim.step()\n",
    "        losses.append(loss.item())\n",
    "    scheduler.step()\n",
    "    print(f'[Epoch {epoch}] Train Loss: {np.mean(losses)}')\n",
    "    with torch.no_grad():\n",
    "        model.eval()\n",
    "        losses = []\n",
    "        for batch in tqdm(val_loader, disable=True):\n",
    "            batch = batch.to(device)\n",
    "            loss = 0\n",
    "            for c, w in criteria.items():\n",
    "                pred = model(\n",
    "                    init_pos=generate_init_pos(batch),\n",
    "                    edge_index=batch.perm_index,\n",
    "                    edge_attr=get_edge_features(batch.apsp_attr),\n",
    "                    batch_index=batch.batch,\n",
    "                )\n",
    "                pos = rescale_by_stress(pred, batch.apsp_attr, batch.perm_index, batch.batch)\n",
    "                loss += w * c(pos, batch.perm_index, batch.apsp_attr, batch.batch)\n",
    "            losses.append(loss.item())\n",
    "        print(f'[Epoch {epoch}] Val Loss: {np.mean(losses)}')"
   ]
  },
  {
   "cell_type": "markdown",
   "id": "b9a7dd9b",
   "metadata": {},
   "source": [
    "================================ DEBUG ================================"
   ]
  },
  {
   "cell_type": "code",
   "execution_count": 26,
   "id": "2a9245be-7331-4d25-891b-5c0ca93186e4",
   "metadata": {
    "ExecuteTime": {
     "end_time": "2024-08-06T06:53:42.486889Z",
     "start_time": "2024-08-06T06:53:16.141813Z"
    }
   },
   "outputs": [
    {
     "name": "stdout",
     "output_type": "stream",
     "text": [
      "GraphDrawingDataBatch(G=[32], perm_index=[2, 12160], edge_metaindex=[4178], apsp_attr=[12160], perm_weight=[12160], aggr_metaindex=[12160], pos=[1535, 2], name=[32], n=[32], m=[32], edge_pair_metaindex=[2, 73450], num_nodes=640, batch=[640], ptr=[33])\n",
      "batch.G [<networkx.classes.digraph.DiGraph object at 0x7f7c8f054280>, <networkx.classes.digraph.DiGraph object at 0x7f7c8f055030>, <networkx.classes.digraph.DiGraph object at 0x7f7c8f055e40>, <networkx.classes.digraph.DiGraph object at 0x7f7c8f055ed0>, <networkx.classes.digraph.DiGraph object at 0x7f7c8f055f60>, <networkx.classes.digraph.DiGraph object at 0x7f7c8f055ff0>, <networkx.classes.digraph.DiGraph object at 0x7f7c8f056080>, <networkx.classes.digraph.DiGraph object at 0x7f7c8f056110>, <networkx.classes.digraph.DiGraph object at 0x7f7c8f0561a0>, <networkx.classes.digraph.DiGraph object at 0x7f7c8f056230>, <networkx.classes.digraph.DiGraph object at 0x7f7c8f0562c0>, <networkx.classes.digraph.DiGraph object at 0x7f7c8f056350>, <networkx.classes.digraph.DiGraph object at 0x7f7c8f0563e0>, <networkx.classes.digraph.DiGraph object at 0x7f7c8f056470>, <networkx.classes.digraph.DiGraph object at 0x7f7c8f056500>, <networkx.classes.digraph.DiGraph object at 0x7f7c8f056590>, <networkx.classes.digraph.DiGraph object at 0x7f7c8f056620>, <networkx.classes.digraph.DiGraph object at 0x7f7c8f0566b0>, <networkx.classes.digraph.DiGraph object at 0x7f7c8f056740>, <networkx.classes.digraph.DiGraph object at 0x7f7c8f0567d0>, <networkx.classes.digraph.DiGraph object at 0x7f7c8f056860>, <networkx.classes.digraph.DiGraph object at 0x7f7c8f0568f0>, <networkx.classes.digraph.DiGraph object at 0x7f7c8f056980>, <networkx.classes.digraph.DiGraph object at 0x7f7c8f056a10>, <networkx.classes.digraph.DiGraph object at 0x7f7c8f056aa0>, <networkx.classes.digraph.DiGraph object at 0x7f7c8f056b30>, <networkx.classes.digraph.DiGraph object at 0x7f7c8f056bc0>, <networkx.classes.digraph.DiGraph object at 0x7f7c8f056c50>, <networkx.classes.digraph.DiGraph object at 0x7f7c8f056ce0>, <networkx.classes.digraph.DiGraph object at 0x7f7c8f056d70>, <networkx.classes.digraph.DiGraph object at 0x7f7c8f056e00>, <networkx.classes.digraph.DiGraph object at 0x7f7c8f056e90>]\n",
      "Processing graph 0 with 20 nodes and 80 edges.\n",
      "Error computing spectral layout for graph 0: Array must not contain infs or NaNs\n",
      "Processing graph 1 with 20 nodes and 62 edges.\n",
      "Error computing spectral layout for graph 1: Array must not contain infs or NaNs\n",
      "Processing graph 2 with 20 nodes and 94 edges.\n",
      "Error computing spectral layout for graph 2: Array must not contain infs or NaNs\n",
      "Processing graph 3 with 20 nodes and 76 edges.\n",
      "Error computing spectral layout for graph 3: Array must not contain infs or NaNs\n",
      "Processing graph 4 with 20 nodes and 76 edges.\n",
      "Error computing spectral layout for graph 4: Array must not contain infs or NaNs\n",
      "Processing graph 5 with 20 nodes and 72 edges.\n",
      "Error computing spectral layout for graph 5: Array must not contain infs or NaNs\n",
      "Processing graph 6 with 20 nodes and 70 edges.\n",
      "Error computing spectral layout for graph 6: Array must not contain infs or NaNs\n",
      "Processing graph 7 with 20 nodes and 100 edges.\n",
      "Error computing spectral layout for graph 7: Array must not contain infs or NaNs\n",
      "Processing graph 8 with 20 nodes and 134 edges.\n",
      "Error computing spectral layout for graph 8: Array must not contain infs or NaNs\n",
      "Processing graph 9 with 20 nodes and 98 edges.\n",
      "Error computing spectral layout for graph 9: Array must not contain infs or NaNs\n",
      "Processing graph 10 with 20 nodes and 118 edges.\n",
      "Error computing spectral layout for graph 10: Array must not contain infs or NaNs\n",
      "Processing graph 11 with 20 nodes and 112 edges.\n",
      "Error computing spectral layout for graph 11: Array must not contain infs or NaNs\n",
      "Processing graph 12 with 20 nodes and 100 edges.\n",
      "Error computing spectral layout for graph 12: Array must not contain infs or NaNs\n",
      "Processing graph 13 with 20 nodes and 126 edges.\n",
      "Error computing spectral layout for graph 13: Array must not contain infs or NaNs\n",
      "Processing graph 14 with 20 nodes and 130 edges.\n",
      "Error computing spectral layout for graph 14: Array must not contain infs or NaNs\n",
      "Processing graph 15 with 20 nodes and 124 edges.\n",
      "Error computing spectral layout for graph 15: Array must not contain infs or NaNs\n",
      "Processing graph 16 with 20 nodes and 124 edges.\n",
      "Error computing spectral layout for graph 16: Array must not contain infs or NaNs\n",
      "Processing graph 17 with 20 nodes and 164 edges.\n",
      "Error computing spectral layout for graph 17: Array must not contain infs or NaNs\n",
      "Processing graph 18 with 20 nodes and 140 edges.\n",
      "Error computing spectral layout for graph 18: Array must not contain infs or NaNs\n",
      "Processing graph 19 with 20 nodes and 158 edges.\n",
      "Error computing spectral layout for graph 19: Array must not contain infs or NaNs\n",
      "Processing graph 20 with 20 nodes and 150 edges.\n",
      "Error computing spectral layout for graph 20: Array must not contain infs or NaNs\n",
      "Processing graph 21 with 20 nodes and 156 edges.\n",
      "Error computing spectral layout for graph 21: Array must not contain infs or NaNs\n",
      "Processing graph 22 with 20 nodes and 138 edges.\n",
      "Error computing spectral layout for graph 22: Array must not contain infs or NaNs\n",
      "Processing graph 23 with 20 nodes and 156 edges.\n",
      "Error computing spectral layout for graph 23: Array must not contain infs or NaNs\n",
      "Processing graph 24 with 20 nodes and 156 edges.\n",
      "Error computing spectral layout for graph 24: Array must not contain infs or NaNs\n",
      "Processing graph 25 with 20 nodes and 150 edges.\n",
      "Error computing spectral layout for graph 25: Array must not contain infs or NaNs\n",
      "Processing graph 26 with 20 nodes and 160 edges.\n",
      "Error computing spectral layout for graph 26: Array must not contain infs or NaNs\n",
      "Processing graph 27 with 20 nodes and 204 edges.\n",
      "Error computing spectral layout for graph 27: Array must not contain infs or NaNs\n",
      "Processing graph 28 with 20 nodes and 180 edges.\n",
      "Error computing spectral layout for graph 28: Array must not contain infs or NaNs\n",
      "Processing graph 29 with 20 nodes and 214 edges.\n",
      "Error computing spectral layout for graph 29: Array must not contain infs or NaNs\n",
      "Processing graph 30 with 20 nodes and 192 edges.\n",
      "Error computing spectral layout for graph 30: Array must not contain infs or NaNs\n",
      "Processing graph 31 with 20 nodes and 164 edges.\n",
      "Error computing spectral layout for graph 31: Array must not contain infs or NaNs\n"
     ]
    },
    {
     "ename": "TypeError",
     "evalue": "rescale_by_stress() got an unexpected keyword argument 'batch_index'",
     "output_type": "error",
     "traceback": [
      "\u001b[0;31m---------------------------------------------------------------------------\u001b[0m",
      "\u001b[0;31mTypeError\u001b[0m                                 Traceback (most recent call last)",
      "Cell \u001b[0;32mIn[26], line 17\u001b[0m\n\u001b[1;32m     13\u001b[0m loss \u001b[38;5;241m=\u001b[39m \u001b[38;5;241m0\u001b[39m\n\u001b[1;32m     14\u001b[0m \u001b[38;5;28;01mfor\u001b[39;00m c, w \u001b[38;5;129;01min\u001b[39;00m criteria\u001b[38;5;241m.\u001b[39mitems():\n\u001b[1;32m     16\u001b[0m     pred \u001b[38;5;241m=\u001b[39m model(\n\u001b[0;32m---> 17\u001b[0m         init_pos\u001b[38;5;241m=\u001b[39m\u001b[43mgenerate_init_pos\u001b[49m\u001b[43m(\u001b[49m\u001b[43mbatch\u001b[49m\u001b[43m)\u001b[49m,\n\u001b[1;32m     18\u001b[0m         edge_index\u001b[38;5;241m=\u001b[39mbatch\u001b[38;5;241m.\u001b[39mperm_index,\n\u001b[1;32m     19\u001b[0m         edge_attr\u001b[38;5;241m=\u001b[39mget_edge_features(batch\u001b[38;5;241m.\u001b[39mapsp_attr),\n\u001b[1;32m     20\u001b[0m         batch_index\u001b[38;5;241m=\u001b[39mbatch\u001b[38;5;241m.\u001b[39mbatch,\n\u001b[1;32m     21\u001b[0m     )\n\u001b[1;32m     22\u001b[0m     pos \u001b[38;5;241m=\u001b[39m rescale_by_stress(pred, batch\u001b[38;5;241m.\u001b[39mapsp_attr, batch\u001b[38;5;241m.\u001b[39mperm_index, batch\u001b[38;5;241m.\u001b[39mbatch)\n\u001b[1;32m     23\u001b[0m     loss \u001b[38;5;241m+\u001b[39m\u001b[38;5;241m=\u001b[39m w \u001b[38;5;241m*\u001b[39m c(pos, batch\u001b[38;5;241m.\u001b[39mperm_index, batch\u001b[38;5;241m.\u001b[39mapsp_attr, batch\u001b[38;5;241m.\u001b[39mbatch)\n",
      "Cell \u001b[0;32mIn[23], line 44\u001b[0m, in \u001b[0;36mgenerate_init_pos\u001b[0;34m(batch)\u001b[0m\n\u001b[1;32m     41\u001b[0m pos \u001b[38;5;241m=\u001b[39m torch\u001b[38;5;241m.\u001b[39mcat(pos_list, dim\u001b[38;5;241m=\u001b[39m\u001b[38;5;241m0\u001b[39m)\n\u001b[1;32m     43\u001b[0m \u001b[38;5;66;03m# 调用 rescale_by_stress 函数\u001b[39;00m\n\u001b[0;32m---> 44\u001b[0m pos \u001b[38;5;241m=\u001b[39m \u001b[43mrescale_by_stress\u001b[49m\u001b[43m(\u001b[49m\n\u001b[1;32m     45\u001b[0m \u001b[43m    \u001b[49m\u001b[43mpos\u001b[49m\u001b[38;5;241;43m=\u001b[39;49m\u001b[43mpos\u001b[49m\u001b[43m,\u001b[49m\n\u001b[1;32m     46\u001b[0m \u001b[43m    \u001b[49m\u001b[43mapsp\u001b[49m\u001b[38;5;241;43m=\u001b[39;49m\u001b[43mbatch\u001b[49m\u001b[38;5;241;43m.\u001b[39;49m\u001b[43mapsp_attr\u001b[49m\u001b[43m,\u001b[49m\n\u001b[1;32m     47\u001b[0m \u001b[43m    \u001b[49m\u001b[43medge_index\u001b[49m\u001b[38;5;241;43m=\u001b[39;49m\u001b[43mbatch\u001b[49m\u001b[38;5;241;43m.\u001b[39;49m\u001b[43mperm_index\u001b[49m\u001b[43m,\u001b[49m\n\u001b[1;32m     48\u001b[0m \u001b[43m    \u001b[49m\u001b[43mbatch_index\u001b[49m\u001b[38;5;241;43m=\u001b[39;49m\u001b[43mbatch\u001b[49m\u001b[38;5;241;43m.\u001b[39;49m\u001b[43mbatch\u001b[49m\u001b[43m,\u001b[49m\n\u001b[1;32m     49\u001b[0m \u001b[43m\u001b[49m\u001b[43m)\u001b[49m\n\u001b[1;32m     50\u001b[0m \u001b[38;5;28mprint\u001b[39m(\u001b[38;5;124m\"\u001b[39m\u001b[38;5;124mShape after rescale_by_stress:\u001b[39m\u001b[38;5;124m\"\u001b[39m, pos\u001b[38;5;241m.\u001b[39mshape)\n\u001b[1;32m     51\u001b[0m \u001b[38;5;28;01mreturn\u001b[39;00m pos\n",
      "\u001b[0;31mTypeError\u001b[0m: rescale_by_stress() got an unexpected keyword argument 'batch_index'"
     ]
    }
   ],
   "source": [
    "with torch.no_grad():\n",
    "    model.eval()\n",
    "    losses = []\n",
    "    for batch in tqdm(test_loader, disable=True):\n",
    "        print(batch)\n",
    "        batch = batch.to(device)\n",
    "        \n",
    "        # print(\"Batch size:\", batch.batch.size())\n",
    "        # print(\"perm index shape:\", batch.perm_index.shape)\n",
    "        # print(\"apsp_attr shape:\", batch.apsp_attr.shape)\n",
    "\n",
    "\n",
    "        loss = 0\n",
    "        for c, w in criteria.items():\n",
    "\n",
    "            pred = model(\n",
    "                init_pos=generate_init_pos(batch),\n",
    "                edge_index=batch.perm_index,\n",
    "                edge_attr=get_edge_features(batch.apsp_attr),\n",
    "                batch_index=batch.batch,\n",
    "            )\n",
    "            pos = rescale_by_stress(pred, batch.apsp_attr, batch.perm_index, batch.batch)\n",
    "            loss += w * c(pos, batch.perm_index, batch.apsp_attr, batch.batch)\n",
    "        losses.append(loss.item())\n",
    "    print(f'Test Loss: {np.mean(losses)}')"
   ]
  },
  {
   "cell_type": "code",
   "execution_count": 27,
   "id": "5df250c999ffe626",
   "metadata": {},
   "outputs": [
    {
     "name": "stdout",
     "output_type": "stream",
     "text": [
      "batch.G [<networkx.classes.digraph.DiGraph object at 0x7f7c8f054280>, <networkx.classes.digraph.DiGraph object at 0x7f7c8f055030>, <networkx.classes.digraph.DiGraph object at 0x7f7c8f055e40>, <networkx.classes.digraph.DiGraph object at 0x7f7c8f055ed0>, <networkx.classes.digraph.DiGraph object at 0x7f7c8f055f60>, <networkx.classes.digraph.DiGraph object at 0x7f7c8f055ff0>, <networkx.classes.digraph.DiGraph object at 0x7f7c8f056080>, <networkx.classes.digraph.DiGraph object at 0x7f7c8f056110>, <networkx.classes.digraph.DiGraph object at 0x7f7c8f0561a0>, <networkx.classes.digraph.DiGraph object at 0x7f7c8f056230>, <networkx.classes.digraph.DiGraph object at 0x7f7c8f0562c0>, <networkx.classes.digraph.DiGraph object at 0x7f7c8f056350>, <networkx.classes.digraph.DiGraph object at 0x7f7c8f0563e0>, <networkx.classes.digraph.DiGraph object at 0x7f7c8f056470>, <networkx.classes.digraph.DiGraph object at 0x7f7c8f056500>, <networkx.classes.digraph.DiGraph object at 0x7f7c8f056590>, <networkx.classes.digraph.DiGraph object at 0x7f7c8f056620>, <networkx.classes.digraph.DiGraph object at 0x7f7c8f0566b0>, <networkx.classes.digraph.DiGraph object at 0x7f7c8f056740>, <networkx.classes.digraph.DiGraph object at 0x7f7c8f0567d0>, <networkx.classes.digraph.DiGraph object at 0x7f7c8f056860>, <networkx.classes.digraph.DiGraph object at 0x7f7c8f0568f0>, <networkx.classes.digraph.DiGraph object at 0x7f7c8f056980>, <networkx.classes.digraph.DiGraph object at 0x7f7c8f056a10>, <networkx.classes.digraph.DiGraph object at 0x7f7c8f056aa0>, <networkx.classes.digraph.DiGraph object at 0x7f7c8f056b30>, <networkx.classes.digraph.DiGraph object at 0x7f7c8f056bc0>, <networkx.classes.digraph.DiGraph object at 0x7f7c8f056c50>, <networkx.classes.digraph.DiGraph object at 0x7f7c8f056ce0>, <networkx.classes.digraph.DiGraph object at 0x7f7c8f056d70>, <networkx.classes.digraph.DiGraph object at 0x7f7c8f056e00>, <networkx.classes.digraph.DiGraph object at 0x7f7c8f056e90>]\n",
      "Processing graph 0 with 20 nodes and 80 edges.\n",
      "Error computing spectral layout for graph 0: Array must not contain infs or NaNs\n",
      "Processing graph 1 with 20 nodes and 62 edges.\n",
      "Error computing spectral layout for graph 1: Array must not contain infs or NaNs\n",
      "Processing graph 2 with 20 nodes and 94 edges.\n",
      "Error computing spectral layout for graph 2: Array must not contain infs or NaNs\n",
      "Processing graph 3 with 20 nodes and 76 edges.\n",
      "Error computing spectral layout for graph 3: Array must not contain infs or NaNs\n",
      "Processing graph 4 with 20 nodes and 76 edges.\n",
      "Error computing spectral layout for graph 4: Array must not contain infs or NaNs\n",
      "Processing graph 5 with 20 nodes and 72 edges.\n",
      "Error computing spectral layout for graph 5: Array must not contain infs or NaNs\n",
      "Processing graph 6 with 20 nodes and 70 edges.\n",
      "Error computing spectral layout for graph 6: Array must not contain infs or NaNs\n",
      "Processing graph 7 with 20 nodes and 100 edges.\n",
      "Error computing spectral layout for graph 7: Array must not contain infs or NaNs\n",
      "Processing graph 8 with 20 nodes and 134 edges.\n",
      "Error computing spectral layout for graph 8: Array must not contain infs or NaNs\n",
      "Processing graph 9 with 20 nodes and 98 edges.\n",
      "Error computing spectral layout for graph 9: Array must not contain infs or NaNs\n",
      "Processing graph 10 with 20 nodes and 118 edges.\n",
      "Error computing spectral layout for graph 10: Array must not contain infs or NaNs\n",
      "Processing graph 11 with 20 nodes and 112 edges.\n",
      "Error computing spectral layout for graph 11: Array must not contain infs or NaNs\n",
      "Processing graph 12 with 20 nodes and 100 edges.\n",
      "Error computing spectral layout for graph 12: Array must not contain infs or NaNs\n",
      "Processing graph 13 with 20 nodes and 126 edges.\n",
      "Error computing spectral layout for graph 13: Array must not contain infs or NaNs\n",
      "Processing graph 14 with 20 nodes and 130 edges.\n",
      "Error computing spectral layout for graph 14: Array must not contain infs or NaNs\n",
      "Processing graph 15 with 20 nodes and 124 edges.\n",
      "Error computing spectral layout for graph 15: Array must not contain infs or NaNs\n",
      "Processing graph 16 with 20 nodes and 124 edges.\n",
      "Error computing spectral layout for graph 16: Array must not contain infs or NaNs\n",
      "Processing graph 17 with 20 nodes and 164 edges.\n",
      "Error computing spectral layout for graph 17: Array must not contain infs or NaNs\n",
      "Processing graph 18 with 20 nodes and 140 edges.\n",
      "Error computing spectral layout for graph 18: Array must not contain infs or NaNs\n",
      "Processing graph 19 with 20 nodes and 158 edges.\n",
      "Error computing spectral layout for graph 19: Array must not contain infs or NaNs\n",
      "Processing graph 20 with 20 nodes and 150 edges.\n",
      "Error computing spectral layout for graph 20: Array must not contain infs or NaNs\n",
      "Processing graph 21 with 20 nodes and 156 edges.\n",
      "Error computing spectral layout for graph 21: Array must not contain infs or NaNs\n",
      "Processing graph 22 with 20 nodes and 138 edges.\n",
      "Error computing spectral layout for graph 22: Array must not contain infs or NaNs\n",
      "Processing graph 23 with 20 nodes and 156 edges.\n",
      "Error computing spectral layout for graph 23: Array must not contain infs or NaNs\n",
      "Processing graph 24 with 20 nodes and 156 edges.\n",
      "Error computing spectral layout for graph 24: Array must not contain infs or NaNs\n",
      "Processing graph 25 with 20 nodes and 150 edges.\n",
      "Error computing spectral layout for graph 25: Array must not contain infs or NaNs\n",
      "Processing graph 26 with 20 nodes and 160 edges.\n",
      "Error computing spectral layout for graph 26: Array must not contain infs or NaNs\n",
      "Processing graph 27 with 20 nodes and 204 edges.\n",
      "Error computing spectral layout for graph 27: Array must not contain infs or NaNs\n",
      "Processing graph 28 with 20 nodes and 180 edges.\n",
      "Error computing spectral layout for graph 28: Array must not contain infs or NaNs\n",
      "Processing graph 29 with 20 nodes and 214 edges.\n",
      "Error computing spectral layout for graph 29: Array must not contain infs or NaNs\n",
      "Processing graph 30 with 20 nodes and 192 edges.\n",
      "Error computing spectral layout for graph 30: Array must not contain infs or NaNs\n",
      "Processing graph 31 with 20 nodes and 164 edges.\n",
      "Error computing spectral layout for graph 31: Array must not contain infs or NaNs\n"
     ]
    },
    {
     "ename": "TypeError",
     "evalue": "rescale_by_stress() got an unexpected keyword argument 'batch_index'",
     "output_type": "error",
     "traceback": [
      "\u001b[0;31m---------------------------------------------------------------------------\u001b[0m",
      "\u001b[0;31mTypeError\u001b[0m                                 Traceback (most recent call last)",
      "Cell \u001b[0;32mIn[27], line 40\u001b[0m\n\u001b[1;32m     37\u001b[0m loss \u001b[38;5;241m=\u001b[39m \u001b[38;5;241m0\u001b[39m\n\u001b[1;32m     38\u001b[0m \u001b[38;5;28;01mfor\u001b[39;00m c, w \u001b[38;5;129;01min\u001b[39;00m criteria\u001b[38;5;241m.\u001b[39mitems():\n\u001b[1;32m     39\u001b[0m     pred \u001b[38;5;241m=\u001b[39m model(\n\u001b[0;32m---> 40\u001b[0m         init_pos\u001b[38;5;241m=\u001b[39m\u001b[43mgenerate_init_pos\u001b[49m\u001b[43m(\u001b[49m\u001b[43mbatch\u001b[49m\u001b[43m)\u001b[49m,\n\u001b[1;32m     41\u001b[0m         edge_index\u001b[38;5;241m=\u001b[39mbatch\u001b[38;5;241m.\u001b[39mperm_index,\n\u001b[1;32m     42\u001b[0m         edge_attr\u001b[38;5;241m=\u001b[39mget_edge_features(batch\u001b[38;5;241m.\u001b[39mapsp_attr),\n\u001b[1;32m     43\u001b[0m         batch_index\u001b[38;5;241m=\u001b[39mbatch\u001b[38;5;241m.\u001b[39mbatch,\n\u001b[1;32m     44\u001b[0m     )\n\u001b[1;32m     45\u001b[0m     \u001b[38;5;66;03m# print(\"pred: \", pred)\u001b[39;00m\n\u001b[1;32m     46\u001b[0m     pos \u001b[38;5;241m=\u001b[39m rescale_by_stress(pred, batch\u001b[38;5;241m.\u001b[39mapsp_attr, batch\u001b[38;5;241m.\u001b[39mperm_index, batch\u001b[38;5;241m.\u001b[39mbatch)\n",
      "Cell \u001b[0;32mIn[23], line 44\u001b[0m, in \u001b[0;36mgenerate_init_pos\u001b[0;34m(batch)\u001b[0m\n\u001b[1;32m     41\u001b[0m pos \u001b[38;5;241m=\u001b[39m torch\u001b[38;5;241m.\u001b[39mcat(pos_list, dim\u001b[38;5;241m=\u001b[39m\u001b[38;5;241m0\u001b[39m)\n\u001b[1;32m     43\u001b[0m \u001b[38;5;66;03m# 调用 rescale_by_stress 函数\u001b[39;00m\n\u001b[0;32m---> 44\u001b[0m pos \u001b[38;5;241m=\u001b[39m \u001b[43mrescale_by_stress\u001b[49m\u001b[43m(\u001b[49m\n\u001b[1;32m     45\u001b[0m \u001b[43m    \u001b[49m\u001b[43mpos\u001b[49m\u001b[38;5;241;43m=\u001b[39;49m\u001b[43mpos\u001b[49m\u001b[43m,\u001b[49m\n\u001b[1;32m     46\u001b[0m \u001b[43m    \u001b[49m\u001b[43mapsp\u001b[49m\u001b[38;5;241;43m=\u001b[39;49m\u001b[43mbatch\u001b[49m\u001b[38;5;241;43m.\u001b[39;49m\u001b[43mapsp_attr\u001b[49m\u001b[43m,\u001b[49m\n\u001b[1;32m     47\u001b[0m \u001b[43m    \u001b[49m\u001b[43medge_index\u001b[49m\u001b[38;5;241;43m=\u001b[39;49m\u001b[43mbatch\u001b[49m\u001b[38;5;241;43m.\u001b[39;49m\u001b[43mperm_index\u001b[49m\u001b[43m,\u001b[49m\n\u001b[1;32m     48\u001b[0m \u001b[43m    \u001b[49m\u001b[43mbatch_index\u001b[49m\u001b[38;5;241;43m=\u001b[39;49m\u001b[43mbatch\u001b[49m\u001b[38;5;241;43m.\u001b[39;49m\u001b[43mbatch\u001b[49m\u001b[43m,\u001b[49m\n\u001b[1;32m     49\u001b[0m \u001b[43m\u001b[49m\u001b[43m)\u001b[49m\n\u001b[1;32m     50\u001b[0m \u001b[38;5;28mprint\u001b[39m(\u001b[38;5;124m\"\u001b[39m\u001b[38;5;124mShape after rescale_by_stress:\u001b[39m\u001b[38;5;124m\"\u001b[39m, pos\u001b[38;5;241m.\u001b[39mshape)\n\u001b[1;32m     51\u001b[0m \u001b[38;5;28;01mreturn\u001b[39;00m pos\n",
      "\u001b[0;31mTypeError\u001b[0m: rescale_by_stress() got an unexpected keyword argument 'batch_index'"
     ]
    }
   ],
   "source": [
    "import numpy as np\n",
    "import matplotlib.pyplot as plt\n",
    "def visualize_graph_v2(batch, perm_index, apsp_attr, pos=None):\n",
    "    print(\"inside visualize_graph_v2\", batch.G)\n",
    "    total = 0\n",
    "    for G in batch.G:\n",
    "        total += G.number_of_nodes()\n",
    "    print(\"total\",total)\n",
    "    print(\"dimension of shape\", pos.shape)\n",
    "\n",
    "    x = 0\n",
    "    for i in range(len(batch.G)):\n",
    "        print(i, pos[x:x+batch.G[i].number_of_nodes()])\n",
    "        nx.draw_networkx(batch.G[i], pos=pos[x:x+batch.G[i].number_of_nodes()], with_labels=False, cmap=\"Set2\")\n",
    "        # print(\"print(pos): ----\",pos.shape)\n",
    "        # pos = pos[batch.G[i].number_of_nodes():]\n",
    "        # print(\"print(pos): ----\",pos.shape)\n",
    "        x += batch.G[i].number_of_nodes()\n",
    "        break\n",
    "\n",
    "    plt.show()\n",
    "    # return g2\n",
    "    return batch.G[0]\n",
    "\n",
    "with torch.no_grad():\n",
    "    model.eval()\n",
    "    losses = []\n",
    "    \n",
    "    for batch in tqdm(test_loader, disable=True):\n",
    "        # print(batch)\n",
    "        batch = batch.to(device)\n",
    "        \n",
    "        # print(\"Batch size:\", batch.batch.size())\n",
    "        # print(\"perm index shape:\", batch.perm_index.shape)\n",
    "        # print(\"apsp_attr shape:\", batch.apsp_attr.shape)\n",
    "\n",
    "        loss = 0\n",
    "        for c, w in criteria.items():\n",
    "            pred = model(\n",
    "                init_pos=generate_init_pos(batch),\n",
    "                edge_index=batch.perm_index,\n",
    "                edge_attr=get_edge_features(batch.apsp_attr),\n",
    "                batch_index=batch.batch,\n",
    "            )\n",
    "            # print(\"pred: \", pred)\n",
    "            pos = rescale_by_stress(pred, batch.apsp_attr, batch.perm_index, batch.batch)\n",
    "            \n",
    "            loss += w * c(pos, batch.perm_index, batch.apsp_attr, batch.batch)\n",
    "\n",
    "        losses.append(loss.item())\n",
    "        \n",
    "        visualize_graph_v2(batch, batch.perm_index.cpu().numpy(), batch.apsp_attr.cpu().numpy(), pred)\n",
    "\n",
    "    print(f'Test Loss: {np.mean(losses)}')\n"
   ]
  },
  {
   "cell_type": "code",
   "execution_count": null,
   "id": "5c8e4196",
   "metadata": {},
   "outputs": [],
   "source": []
  },
  {
   "cell_type": "code",
   "execution_count": null,
   "id": "e925b545",
   "metadata": {},
   "outputs": [],
   "source": []
  },
  {
   "cell_type": "code",
   "execution_count": 28,
   "id": "bb2336bc",
   "metadata": {},
   "outputs": [
    {
     "name": "stdout",
     "output_type": "stream",
     "text": [
      "batch.G [<networkx.classes.digraph.DiGraph object at 0x7f7c8f054280>, <networkx.classes.digraph.DiGraph object at 0x7f7c8f055030>, <networkx.classes.digraph.DiGraph object at 0x7f7c8f055e40>, <networkx.classes.digraph.DiGraph object at 0x7f7c8f055ed0>, <networkx.classes.digraph.DiGraph object at 0x7f7c8f055f60>, <networkx.classes.digraph.DiGraph object at 0x7f7c8f055ff0>, <networkx.classes.digraph.DiGraph object at 0x7f7c8f056080>, <networkx.classes.digraph.DiGraph object at 0x7f7c8f056110>, <networkx.classes.digraph.DiGraph object at 0x7f7c8f0561a0>, <networkx.classes.digraph.DiGraph object at 0x7f7c8f056230>, <networkx.classes.digraph.DiGraph object at 0x7f7c8f0562c0>, <networkx.classes.digraph.DiGraph object at 0x7f7c8f056350>, <networkx.classes.digraph.DiGraph object at 0x7f7c8f0563e0>, <networkx.classes.digraph.DiGraph object at 0x7f7c8f056470>, <networkx.classes.digraph.DiGraph object at 0x7f7c8f056500>, <networkx.classes.digraph.DiGraph object at 0x7f7c8f056590>, <networkx.classes.digraph.DiGraph object at 0x7f7c8f056620>, <networkx.classes.digraph.DiGraph object at 0x7f7c8f0566b0>, <networkx.classes.digraph.DiGraph object at 0x7f7c8f056740>, <networkx.classes.digraph.DiGraph object at 0x7f7c8f0567d0>, <networkx.classes.digraph.DiGraph object at 0x7f7c8f056860>, <networkx.classes.digraph.DiGraph object at 0x7f7c8f0568f0>, <networkx.classes.digraph.DiGraph object at 0x7f7c8f056980>, <networkx.classes.digraph.DiGraph object at 0x7f7c8f056a10>, <networkx.classes.digraph.DiGraph object at 0x7f7c8f056aa0>, <networkx.classes.digraph.DiGraph object at 0x7f7c8f056b30>, <networkx.classes.digraph.DiGraph object at 0x7f7c8f056bc0>, <networkx.classes.digraph.DiGraph object at 0x7f7c8f056c50>, <networkx.classes.digraph.DiGraph object at 0x7f7c8f056ce0>, <networkx.classes.digraph.DiGraph object at 0x7f7c8f056d70>, <networkx.classes.digraph.DiGraph object at 0x7f7c8f056e00>, <networkx.classes.digraph.DiGraph object at 0x7f7c8f056e90>]\n",
      "Processing graph 0 with 20 nodes and 80 edges.\n",
      "Error computing spectral layout for graph 0: Array must not contain infs or NaNs\n",
      "Processing graph 1 with 20 nodes and 62 edges.\n",
      "Error computing spectral layout for graph 1: Array must not contain infs or NaNs\n",
      "Processing graph 2 with 20 nodes and 94 edges.\n",
      "Error computing spectral layout for graph 2: Array must not contain infs or NaNs\n",
      "Processing graph 3 with 20 nodes and 76 edges.\n",
      "Error computing spectral layout for graph 3: Array must not contain infs or NaNs\n",
      "Processing graph 4 with 20 nodes and 76 edges.\n",
      "Error computing spectral layout for graph 4: Array must not contain infs or NaNs\n",
      "Processing graph 5 with 20 nodes and 72 edges.\n",
      "Error computing spectral layout for graph 5: Array must not contain infs or NaNs\n",
      "Processing graph 6 with 20 nodes and 70 edges.\n",
      "Error computing spectral layout for graph 6: Array must not contain infs or NaNs\n",
      "Processing graph 7 with 20 nodes and 100 edges.\n",
      "Error computing spectral layout for graph 7: Array must not contain infs or NaNs\n",
      "Processing graph 8 with 20 nodes and 134 edges.\n",
      "Error computing spectral layout for graph 8: Array must not contain infs or NaNs\n",
      "Processing graph 9 with 20 nodes and 98 edges.\n",
      "Error computing spectral layout for graph 9: Array must not contain infs or NaNs\n",
      "Processing graph 10 with 20 nodes and 118 edges.\n",
      "Error computing spectral layout for graph 10: Array must not contain infs or NaNs\n",
      "Processing graph 11 with 20 nodes and 112 edges.\n",
      "Error computing spectral layout for graph 11: Array must not contain infs or NaNs\n",
      "Processing graph 12 with 20 nodes and 100 edges.\n",
      "Error computing spectral layout for graph 12: Array must not contain infs or NaNs\n",
      "Processing graph 13 with 20 nodes and 126 edges.\n",
      "Error computing spectral layout for graph 13: Array must not contain infs or NaNs\n",
      "Processing graph 14 with 20 nodes and 130 edges.\n",
      "Error computing spectral layout for graph 14: Array must not contain infs or NaNs\n",
      "Processing graph 15 with 20 nodes and 124 edges.\n",
      "Error computing spectral layout for graph 15: Array must not contain infs or NaNs\n",
      "Processing graph 16 with 20 nodes and 124 edges.\n",
      "Error computing spectral layout for graph 16: Array must not contain infs or NaNs\n",
      "Processing graph 17 with 20 nodes and 164 edges.\n",
      "Error computing spectral layout for graph 17: Array must not contain infs or NaNs\n",
      "Processing graph 18 with 20 nodes and 140 edges.\n",
      "Error computing spectral layout for graph 18: Array must not contain infs or NaNs\n",
      "Processing graph 19 with 20 nodes and 158 edges.\n",
      "Error computing spectral layout for graph 19: Array must not contain infs or NaNs\n",
      "Processing graph 20 with 20 nodes and 150 edges.\n",
      "Error computing spectral layout for graph 20: Array must not contain infs or NaNs\n",
      "Processing graph 21 with 20 nodes and 156 edges.\n",
      "Error computing spectral layout for graph 21: Array must not contain infs or NaNs\n",
      "Processing graph 22 with 20 nodes and 138 edges.\n",
      "Error computing spectral layout for graph 22: Array must not contain infs or NaNs\n",
      "Processing graph 23 with 20 nodes and 156 edges.\n",
      "Error computing spectral layout for graph 23: Array must not contain infs or NaNs\n",
      "Processing graph 24 with 20 nodes and 156 edges.\n",
      "Error computing spectral layout for graph 24: Array must not contain infs or NaNs\n",
      "Processing graph 25 with 20 nodes and 150 edges.\n",
      "Error computing spectral layout for graph 25: Array must not contain infs or NaNs\n",
      "Processing graph 26 with 20 nodes and 160 edges.\n",
      "Error computing spectral layout for graph 26: Array must not contain infs or NaNs\n",
      "Processing graph 27 with 20 nodes and 204 edges.\n",
      "Error computing spectral layout for graph 27: Array must not contain infs or NaNs\n",
      "Processing graph 28 with 20 nodes and 180 edges.\n",
      "Error computing spectral layout for graph 28: Array must not contain infs or NaNs\n",
      "Processing graph 29 with 20 nodes and 214 edges.\n",
      "Error computing spectral layout for graph 29: Array must not contain infs or NaNs\n",
      "Processing graph 30 with 20 nodes and 192 edges.\n",
      "Error computing spectral layout for graph 30: Array must not contain infs or NaNs\n",
      "Processing graph 31 with 20 nodes and 164 edges.\n",
      "Error computing spectral layout for graph 31: Array must not contain infs or NaNs\n"
     ]
    },
    {
     "ename": "TypeError",
     "evalue": "rescale_by_stress() got an unexpected keyword argument 'batch_index'",
     "output_type": "error",
     "traceback": [
      "\u001b[0;31m---------------------------------------------------------------------------\u001b[0m",
      "\u001b[0;31mTypeError\u001b[0m                                 Traceback (most recent call last)",
      "Cell \u001b[0;32mIn[28], line 55\u001b[0m\n\u001b[1;32m     52\u001b[0m loss \u001b[38;5;241m=\u001b[39m \u001b[38;5;241m0\u001b[39m\n\u001b[1;32m     53\u001b[0m \u001b[38;5;28;01mfor\u001b[39;00m c, w \u001b[38;5;129;01min\u001b[39;00m criteria\u001b[38;5;241m.\u001b[39mitems():\n\u001b[1;32m     54\u001b[0m     pred \u001b[38;5;241m=\u001b[39m model(\n\u001b[0;32m---> 55\u001b[0m         init_pos\u001b[38;5;241m=\u001b[39m\u001b[43mgenerate_init_pos\u001b[49m\u001b[43m(\u001b[49m\u001b[43mbatch\u001b[49m\u001b[43m)\u001b[49m,\n\u001b[1;32m     56\u001b[0m         edge_index\u001b[38;5;241m=\u001b[39mbatch\u001b[38;5;241m.\u001b[39mperm_index,\n\u001b[1;32m     57\u001b[0m         edge_attr\u001b[38;5;241m=\u001b[39mget_edge_features(batch\u001b[38;5;241m.\u001b[39mapsp_attr),\n\u001b[1;32m     58\u001b[0m         batch_index\u001b[38;5;241m=\u001b[39mbatch\u001b[38;5;241m.\u001b[39mbatch,\n\u001b[1;32m     59\u001b[0m     )\n\u001b[1;32m     60\u001b[0m     pos \u001b[38;5;241m=\u001b[39m rescale_by_stress(pred, batch\u001b[38;5;241m.\u001b[39mapsp_attr, batch\u001b[38;5;241m.\u001b[39mperm_index, batch\u001b[38;5;241m.\u001b[39mbatch)\n\u001b[1;32m     61\u001b[0m     loss \u001b[38;5;241m+\u001b[39m\u001b[38;5;241m=\u001b[39m w \u001b[38;5;241m*\u001b[39m c(pos, batch\u001b[38;5;241m.\u001b[39mperm_index, batch\u001b[38;5;241m.\u001b[39mapsp_attr, batch\u001b[38;5;241m.\u001b[39mbatch)\n",
      "Cell \u001b[0;32mIn[23], line 44\u001b[0m, in \u001b[0;36mgenerate_init_pos\u001b[0;34m(batch)\u001b[0m\n\u001b[1;32m     41\u001b[0m pos \u001b[38;5;241m=\u001b[39m torch\u001b[38;5;241m.\u001b[39mcat(pos_list, dim\u001b[38;5;241m=\u001b[39m\u001b[38;5;241m0\u001b[39m)\n\u001b[1;32m     43\u001b[0m \u001b[38;5;66;03m# 调用 rescale_by_stress 函数\u001b[39;00m\n\u001b[0;32m---> 44\u001b[0m pos \u001b[38;5;241m=\u001b[39m \u001b[43mrescale_by_stress\u001b[49m\u001b[43m(\u001b[49m\n\u001b[1;32m     45\u001b[0m \u001b[43m    \u001b[49m\u001b[43mpos\u001b[49m\u001b[38;5;241;43m=\u001b[39;49m\u001b[43mpos\u001b[49m\u001b[43m,\u001b[49m\n\u001b[1;32m     46\u001b[0m \u001b[43m    \u001b[49m\u001b[43mapsp\u001b[49m\u001b[38;5;241;43m=\u001b[39;49m\u001b[43mbatch\u001b[49m\u001b[38;5;241;43m.\u001b[39;49m\u001b[43mapsp_attr\u001b[49m\u001b[43m,\u001b[49m\n\u001b[1;32m     47\u001b[0m \u001b[43m    \u001b[49m\u001b[43medge_index\u001b[49m\u001b[38;5;241;43m=\u001b[39;49m\u001b[43mbatch\u001b[49m\u001b[38;5;241;43m.\u001b[39;49m\u001b[43mperm_index\u001b[49m\u001b[43m,\u001b[49m\n\u001b[1;32m     48\u001b[0m \u001b[43m    \u001b[49m\u001b[43mbatch_index\u001b[49m\u001b[38;5;241;43m=\u001b[39;49m\u001b[43mbatch\u001b[49m\u001b[38;5;241;43m.\u001b[39;49m\u001b[43mbatch\u001b[49m\u001b[43m,\u001b[49m\n\u001b[1;32m     49\u001b[0m \u001b[43m\u001b[49m\u001b[43m)\u001b[49m\n\u001b[1;32m     50\u001b[0m \u001b[38;5;28mprint\u001b[39m(\u001b[38;5;124m\"\u001b[39m\u001b[38;5;124mShape after rescale_by_stress:\u001b[39m\u001b[38;5;124m\"\u001b[39m, pos\u001b[38;5;241m.\u001b[39mshape)\n\u001b[1;32m     51\u001b[0m \u001b[38;5;28;01mreturn\u001b[39;00m pos\n",
      "\u001b[0;31mTypeError\u001b[0m: rescale_by_stress() got an unexpected keyword argument 'batch_index'"
     ]
    }
   ],
   "source": [
    "import numpy as np\n",
    "import matplotlib.pyplot as plt\n",
    "import networkx as nx\n",
    "import math\n",
    "\n",
    "def visualize_graph_v2(batch, perm_index, apsp_attr, pos=None):\n",
    "    print(\"inside visualize_graph_v2\", batch.G)\n",
    "    total = 0\n",
    "    for G in batch.G:\n",
    "        total += G.number_of_nodes()\n",
    "    print(\"total\", total)\n",
    "    print(\"dimension of shape\", pos.shape)\n",
    "\n",
    "    x = 0\n",
    "    num_graphs = len(batch.G)\n",
    "    num_cols = 4\n",
    "    num_rows = math.ceil(num_graphs / num_cols)\n",
    "    fig, axes = plt.subplots(num_rows, num_cols, figsize=(num_cols*5, num_rows*5))\n",
    "    axes = axes.flatten() \n",
    "\n",
    "    for i in range(num_graphs):\n",
    "        ax = axes[i]\n",
    "        graph_pos = pos[x:x + batch.G[i].number_of_nodes()]\n",
    "\n",
    "        if torch.isnan(graph_pos).any():\n",
    "            print(f\"Warning: NaN values found in graph {i} positions! Replacing NaN values with (0,0).\")\n",
    "            graph_pos = torch.nan_to_num(graph_pos, nan=0.0)\n",
    "\n",
    "        print(i, graph_pos)\n",
    "        nx.draw_networkx(batch.G[i], pos=graph_pos.numpy(), with_labels=False, cmap=\"Set2\", ax=ax)\n",
    "        ax.set_axis_off()\n",
    "        x += batch.G[i].number_of_nodes()\n",
    "\n",
    "    for j in range(i+1, len(axes)):\n",
    "        axes[j].set_visible(False)\n",
    "\n",
    "    plt.tight_layout()\n",
    "    plt.show()\n",
    "\n",
    "    return batch.G[0]\n",
    "\n",
    "\n",
    "\n",
    "# Testing the modificatio n inside the main loop\n",
    "with torch.no_grad():\n",
    "    model.eval()\n",
    "    losses = []\n",
    "\n",
    "    for batch in tqdm(test_loader, disable=True):\n",
    "        batch = batch.to(device)\n",
    "\n",
    "        loss = 0\n",
    "        for c, w in criteria.items():\n",
    "            pred = model(\n",
    "                init_pos=generate_init_pos(batch),\n",
    "                edge_index=batch.perm_index,\n",
    "                edge_attr=get_edge_features(batch.apsp_attr),\n",
    "                batch_index=batch.batch,\n",
    "            )\n",
    "            pos = rescale_by_stress(pred, batch.apsp_attr, batch.perm_index, batch.batch)\n",
    "            loss += w * c(pos, batch.perm_index, batch.apsp_attr, batch.batch)\n",
    "\n",
    "        break\n",
    "        losses.append(loss.item())\n",
    "\n",
    "        visualize_graph_v2(batch, batch.perm_index.cpu().numpy(), batch.apsp_attr.cpu().numpy(), pred)\n",
    "\n",
    "    print(f'Test Loss: {np.mean(losses)}')\n",
    "\n"
   ]
  },
  {
   "cell_type": "code",
   "execution_count": null,
   "id": "a637a348",
   "metadata": {},
   "outputs": [],
   "source": []
  }
 ],
 "metadata": {
  "kernelspec": {
   "display_name": "Python 3 (ipykernel)",
   "language": "python",
   "name": "python3"
  },
  "language_info": {
   "codemirror_mode": {
    "name": "ipython",
    "version": 3
   },
   "file_extension": ".py",
   "mimetype": "text/x-python",
   "name": "python",
   "nbconvert_exporter": "python",
   "pygments_lexer": "ipython3",
   "version": "3.10.14"
  },
  "widgets": {
   "application/vnd.jupyter.widget-state+json": {
    "state": {
     "1a6eaadc214a40b8a2fa048f934db6d0": {
      "model_module": "@jupyter-widgets/controls",
      "model_module_version": "1.5.0",
      "model_name": "HTMLModel",
      "state": {
       "layout": "IPY_MODEL_40c664d572b84ef18b87ead26e1394fd",
       "style": "IPY_MODEL_80769a69b258448ba022beb13ba6364a",
       "value": " 2/79 [03:39&lt;2:08:39, 100.26s/it]"
      }
     },
     "1d73892e8c254708ad3918446d1b971d": {
      "model_module": "@jupyter-widgets/controls",
      "model_module_version": "1.5.0",
      "model_name": "HTMLModel",
      "state": {
       "layout": "IPY_MODEL_27d2c0b03e77463ca2d1ef57e2dbb80c",
       "style": "IPY_MODEL_5a505a3ee60b4cec94a909ee77bc9e88",
       "value": "Loading graphs: 100%"
      }
     },
     "21287ad6d5e94484936bd93b6f85b49f": {
      "model_module": "@jupyter-widgets/controls",
      "model_module_version": "1.5.0",
      "model_name": "DescriptionStyleModel",
      "state": {
       "description_width": ""
      }
     },
     "24c3a3de365e4f25b0a1bea6f0fb668c": {
      "model_module": "@jupyter-widgets/controls",
      "model_module_version": "1.5.0",
      "model_name": "HTMLModel",
      "state": {
       "layout": "IPY_MODEL_7418bd6443174ebf9271fa554d755cb6",
       "style": "IPY_MODEL_89249e08e1e3471682df33d354d7719a",
       "value": " 11534/11534 [02:08&lt;00:00, 135.57it/s]"
      }
     },
     "27d2c0b03e77463ca2d1ef57e2dbb80c": {
      "model_module": "@jupyter-widgets/base",
      "model_module_version": "1.2.0",
      "model_name": "LayoutModel",
      "state": {}
     },
     "40c664d572b84ef18b87ead26e1394fd": {
      "model_module": "@jupyter-widgets/base",
      "model_module_version": "1.2.0",
      "model_name": "LayoutModel",
      "state": {}
     },
     "45147e50fc8f4baebe21cd0514d03651": {
      "model_module": "@jupyter-widgets/base",
      "model_module_version": "1.2.0",
      "model_name": "LayoutModel",
      "state": {}
     },
     "4df22612cbdf457690de3a21e160aa38": {
      "model_module": "@jupyter-widgets/base",
      "model_module_version": "1.2.0",
      "model_name": "LayoutModel",
      "state": {}
     },
     "5a505a3ee60b4cec94a909ee77bc9e88": {
      "model_module": "@jupyter-widgets/controls",
      "model_module_version": "1.5.0",
      "model_name": "DescriptionStyleModel",
      "state": {
       "description_width": ""
      }
     },
     "6e77e20f7c004d279691b884ca326aad": {
      "model_module": "@jupyter-widgets/controls",
      "model_module_version": "1.5.0",
      "model_name": "HBoxModel",
      "state": {
       "children": [
        "IPY_MODEL_8b937b880a894a71a97b31715f2a1f4c",
        "IPY_MODEL_db06b803a3a24d01b9b1c2b1e05ae83a",
        "IPY_MODEL_1a6eaadc214a40b8a2fa048f934db6d0"
       ],
       "layout": "IPY_MODEL_4df22612cbdf457690de3a21e160aa38"
      }
     },
     "73376bdf366c44bfb463627255caa47e": {
      "model_module": "@jupyter-widgets/controls",
      "model_module_version": "1.5.0",
      "model_name": "FloatProgressModel",
      "state": {
       "bar_style": "success",
       "layout": "IPY_MODEL_9e7c9d6193914fe0aaa1eebe6b6c059d",
       "max": 11534,
       "style": "IPY_MODEL_8b02a3651eb54471a990e3928f56d001",
       "value": 11534
      }
     },
     "7418bd6443174ebf9271fa554d755cb6": {
      "model_module": "@jupyter-widgets/base",
      "model_module_version": "1.2.0",
      "model_name": "LayoutModel",
      "state": {}
     },
     "80769a69b258448ba022beb13ba6364a": {
      "model_module": "@jupyter-widgets/controls",
      "model_module_version": "1.5.0",
      "model_name": "DescriptionStyleModel",
      "state": {
       "description_width": ""
      }
     },
     "89249e08e1e3471682df33d354d7719a": {
      "model_module": "@jupyter-widgets/controls",
      "model_module_version": "1.5.0",
      "model_name": "DescriptionStyleModel",
      "state": {
       "description_width": ""
      }
     },
     "8b02a3651eb54471a990e3928f56d001": {
      "model_module": "@jupyter-widgets/controls",
      "model_module_version": "1.5.0",
      "model_name": "ProgressStyleModel",
      "state": {
       "description_width": ""
      }
     },
     "8b937b880a894a71a97b31715f2a1f4c": {
      "model_module": "@jupyter-widgets/controls",
      "model_module_version": "1.5.0",
      "model_name": "HTMLModel",
      "state": {
       "layout": "IPY_MODEL_45147e50fc8f4baebe21cd0514d03651",
       "style": "IPY_MODEL_21287ad6d5e94484936bd93b6f85b49f",
       "value": "  3%"
      }
     },
     "93b07268006b4c8ea3508cc0a8708e7a": {
      "model_module": "@jupyter-widgets/base",
      "model_module_version": "1.2.0",
      "model_name": "LayoutModel",
      "state": {}
     },
     "9e7c9d6193914fe0aaa1eebe6b6c059d": {
      "model_module": "@jupyter-widgets/base",
      "model_module_version": "1.2.0",
      "model_name": "LayoutModel",
      "state": {}
     },
     "db06b803a3a24d01b9b1c2b1e05ae83a": {
      "model_module": "@jupyter-widgets/controls",
      "model_module_version": "1.5.0",
      "model_name": "FloatProgressModel",
      "state": {
       "bar_style": "danger",
       "layout": "IPY_MODEL_f4c410d18e994023b2ba1fc6ed46b5d1",
       "max": 79,
       "style": "IPY_MODEL_e659a35bdcf6428abeb1b6f9c003c325",
       "value": 2
      }
     },
     "dcc6a4b6eeac482ab4b1935722126823": {
      "model_module": "@jupyter-widgets/controls",
      "model_module_version": "1.5.0",
      "model_name": "HBoxModel",
      "state": {
       "children": [
        "IPY_MODEL_1d73892e8c254708ad3918446d1b971d",
        "IPY_MODEL_73376bdf366c44bfb463627255caa47e",
        "IPY_MODEL_24c3a3de365e4f25b0a1bea6f0fb668c"
       ],
       "layout": "IPY_MODEL_93b07268006b4c8ea3508cc0a8708e7a"
      }
     },
     "e659a35bdcf6428abeb1b6f9c003c325": {
      "model_module": "@jupyter-widgets/controls",
      "model_module_version": "1.5.0",
      "model_name": "ProgressStyleModel",
      "state": {
       "description_width": ""
      }
     },
     "f4c410d18e994023b2ba1fc6ed46b5d1": {
      "model_module": "@jupyter-widgets/base",
      "model_module_version": "1.2.0",
      "model_name": "LayoutModel",
      "state": {}
     }
    },
    "version_major": 2,
    "version_minor": 0
   }
  }
 },
 "nbformat": 4,
 "nbformat_minor": 5
}
